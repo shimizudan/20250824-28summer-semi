{
  "cells": [
    {
      "cell_type": "markdown",
      "id": "cb656753",
      "metadata": {
        "id": "cb656753"
      },
      "source": [
        "# 高校数学とJulia言語 Day 1\n",
        "\n",
        "- 城北中学校・高等学校　中学3年・高校1年\n",
        "- 夏期講習会III 2025/8/24~2025/8/28\n",
        "- 担当：清水団\n",
        "\n",
        "## 本日のテーマ：Google Colabの紹介とJulia言語で計算してみよう！\n",
        "\n",
        "### 5日間の学習予定\n",
        "- **Day 1**：Google Colabの紹介・基本計算\n",
        "- **Day 2**：関数のグラフの描画\n",
        "- **Day 3**：最適化（最大・最小）\n",
        "- **Day 4**：データの分析\n",
        "- **Day 5**：確率・シミュレーション\n"
      ]
    },
    {
      "cell_type": "markdown",
      "id": "e0514a00",
      "metadata": {
        "id": "e0514a00"
      },
      "source": [
        "## Julia言語とは\n",
        "\n",
        "Juliaは統計処理や科学技術計算、機械学習に強いプログラミング言語です。特に数学的な計算が得意で、数式をそのままコードに書けるのが魅力です。\n",
        "\n",
        "### Julia言語の特徴\n",
        "- **数学的記法が使える**：`2x` のように数学と同じ書き方ができる\n",
        "- **高速計算**：複雑な計算も瞬時に実行\n",
        "- **豊富な数学関数**：平方根、三角関数、対数など標準装備\n",
        "- **美しいグラフ**：関数のグラフを簡単に描画可能\n",
        "\n",
        "公式サイト：https://julialang.org/\n"
      ]
    },
    {
      "cell_type": "markdown",
      "id": "e1f0a222",
      "metadata": {
        "id": "e1f0a222"
      },
      "source": [
        "## Google ColabでJulia言語を使ってみよう！\n",
        "\n",
        "2025年3月6日にGoogle Colab上でJulia言語が使えるようになりました。\n",
        "今回の夏期講習会ではこのGoogle Colab上でJulia言語を使ってみます。\n",
        "\n",
        "### 📌 設定方法\n",
        "**メニュー → ランタイム → ランタイムのタイプを変更 → Julia を選択**\n",
        "\n",
        "参考記事：https://zenn.dev/dannchu/articles/296dce4bf7c701\n"
      ]
    },
    {
      "cell_type": "markdown",
      "id": "colab_guide",
      "metadata": {
        "id": "colab_guide"
      },
      "source": [
        "## 📝 Google Colab の基本的な使い方\n",
        "\n",
        "Google Colab（Colaboratory）は、クラウド上で動くJupyterノートブック環境です。PythonやJuliaなどのプログラミング言語を、インストールなしでブラウザ上で実行できます。\n",
        "\n",
        "### 🔸 セルの種類\n",
        "\n",
        "| セルの種類 | 用途 | 入力内容 |\n",
        "|-----------|------|----------|\n",
        "| **コードセル** | プログラムを書く | Julia, Python などのコード |\n",
        "| **テキストセル** | 解説や見出しを書く | Markdown 記法を使った文章や数式 |\n",
        "\n",
        "✅ **セルの追加方法**：上部メニュー → `+ コード` または `+ テキスト`\n",
        "\n",
        "### 🔸 コードセルの使い方\n",
        "\n",
        "```julia\n",
        "println(\"Hello, world!\")\n",
        "```\n",
        "\n",
        "▶️ ボタンをクリックするか `Shift + Enter` で実行できます。\n",
        "\n",
        "### 🔸 便利なショートカット\n",
        "\n",
        "| 操作 | 方法 |\n",
        "|------|------|\n",
        "| セルを実行 | `Shift + Enter` または ▶️ ボタン |\n",
        "| 新しいセルを追加 | 上部の `+ コード` または `+ テキスト` |\n",
        "| セルを削除 | セル左のメニューからゴミ箱アイコン |\n",
        "| ノートブックを保存 | 自動保存（Googleドライブ）|\n",
        "\n",
        "### 🔸 数式の書き方（LaTeX）\n",
        "\n",
        "テキストセルでは数式を美しく表示できます：\n",
        "\n",
        "```\n",
        "インライン数式：$x^2 + y^2 = r^2$\n",
        "\n",
        "ブロック数式：\n",
        "$$\n",
        "\\int_0^1 x^2 dx = \\frac{1}{3}\n",
        "$$\n",
        "```\n",
        "\n",
        "実際の表示：\n",
        "\n",
        "インライン数式：$x^2 + y^2 = r^2$\n",
        "\n",
        "ブロック数式：\n",
        "$$\n",
        "\\int_0^1 x^2 dx = \\frac{1}{3}\n",
        "$$\n"
      ]
    },
    {
      "cell_type": "markdown",
      "id": "4098335e",
      "metadata": {
        "id": "4098335e"
      },
      "source": [
        "## Julia言語で基本計算をしてみよう！\n",
        "\n",
        "まずは四則演算から始めましょう。電卓として使ってみます。\n"
      ]
    },
    {
      "cell_type": "code",
      "execution_count": 58,
      "id": "ce77074f",
      "metadata": {},
      "outputs": [
        {
          "data": {
            "text/plain": [
              "22"
            ]
          },
          "metadata": {},
          "output_type": "display_data"
        }
      ],
      "source": [
        "15 + 7 # 足し算"
      ]
    },
    {
      "cell_type": "code",
      "execution_count": 59,
      "id": "af72765a",
      "metadata": {},
      "outputs": [
        {
          "data": {
            "text/plain": [
              "8"
            ]
          },
          "metadata": {},
          "output_type": "display_data"
        }
      ],
      "source": [
        "15 - 7 # 引き算"
      ]
    },
    {
      "cell_type": "code",
      "execution_count": 60,
      "id": "3d89e6b8",
      "metadata": {},
      "outputs": [
        {
          "data": {
            "text/plain": [
              "105"
            ]
          },
          "metadata": {},
          "output_type": "display_data"
        }
      ],
      "source": [
        "15 * 7 # 掛け算"
      ]
    },
    {
      "cell_type": "code",
      "execution_count": 61,
      "id": "9e0edff6",
      "metadata": {},
      "outputs": [
        {
          "data": {
            "text/plain": [
              "2.142857142857143"
            ]
          },
          "metadata": {},
          "output_type": "display_data"
        }
      ],
      "source": [
        "15 / 7 # 割り算"
      ]
    },
    {
      "cell_type": "code",
      "execution_count": 63,
      "id": "e917fa30",
      "metadata": {},
      "outputs": [
        {
          "data": {
            "text/plain": [
              "15//7"
            ]
          },
          "metadata": {},
          "output_type": "display_data"
        }
      ],
      "source": [
        "15 // 7 # 割り算（有理数）"
      ]
    },
    {
      "cell_type": "code",
      "execution_count": 62,
      "id": "da55f414",
      "metadata": {},
      "outputs": [
        {
          "data": {
            "text/plain": [
              "1"
            ]
          },
          "metadata": {},
          "output_type": "display_data"
        }
      ],
      "source": [
        "15 % 7 # 割り算の余り"
      ]
    },
    {
      "cell_type": "code",
      "execution_count": 64,
      "id": "4f71e6cc",
      "metadata": {},
      "outputs": [
        {
          "data": {
            "text/plain": [
              "2"
            ]
          },
          "metadata": {},
          "output_type": "display_data"
        }
      ],
      "source": [
        "15 ÷ 7 # 割り算の商"
      ]
    },
    {
      "cell_type": "markdown",
      "id": "math_functions",
      "metadata": {
        "id": "math_functions"
      },
      "source": [
        "## 数学でよく使う関数を試してみよう"
      ]
    },
    {
      "cell_type": "code",
      "execution_count": 65,
      "id": "e0034522",
      "metadata": {
        "id": "e0034522"
      },
      "outputs": [
        {
          "data": {
            "text/plain": [
              "1.4142135623730951"
            ]
          },
          "metadata": {},
          "output_type": "display_data"
        }
      ],
      "source": [
        "# 平方根（ルート）\n",
        "sqrt(2)"
      ]
    },
    {
      "cell_type": "code",
      "execution_count": 66,
      "id": "691f6230",
      "metadata": {},
      "outputs": [
        {
          "data": {
            "text/plain": [
              "1.4142135623730951"
            ]
          },
          "metadata": {},
          "output_type": "display_data"
        }
      ],
      "source": [
        "# 平方根（ルート）\n",
        "√2"
      ]
    },
    {
      "cell_type": "code",
      "execution_count": 71,
      "id": "e4c19235",
      "metadata": {
        "id": "e4c19235"
      },
      "outputs": [
        {
          "data": {
            "text/plain": [
              "π = 3.1415926535897..."
            ]
          },
          "metadata": {},
          "output_type": "display_data"
        }
      ],
      "source": [
        "# 円周率π（パイ）\n",
        "pi"
      ]
    },
    {
      "cell_type": "code",
      "execution_count": 72,
      "id": "8b20771e",
      "metadata": {},
      "outputs": [
        {
          "data": {
            "text/plain": [
              "π = 3.1415926535897..."
            ]
          },
          "metadata": {},
          "output_type": "display_data"
        }
      ],
      "source": [
        "# 円周率π（パイ）\n",
        "π"
      ]
    },
    {
      "cell_type": "code",
      "execution_count": null,
      "id": "203d1afb",
      "metadata": {},
      "outputs": [
        {
          "data": {
            "text/plain": [
              "ℯ = 2.7182818284590..."
            ]
          },
          "metadata": {},
          "output_type": "display_data"
        }
      ],
      "source": [
        "# 自然対数の底（ネイピア数）ℯ \\euler + tab\n",
        "ℯ "
      ]
    },
    {
      "cell_type": "code",
      "execution_count": 70,
      "id": "31e34296",
      "metadata": {},
      "outputs": [
        {
          "data": {
            "text/plain": [
              "2.718281828459045"
            ]
          },
          "metadata": {},
          "output_type": "display_data"
        }
      ],
      "source": [
        "# 自然対数の底（ネイピア数）ℯ\n",
        "exp(1)"
      ]
    },
    {
      "cell_type": "code",
      "execution_count": 76,
      "id": "math_constants",
      "metadata": {
        "id": "math_constants"
      },
      "outputs": [
        {
          "data": {
            "text/plain": [
              "1.618033988749895"
            ]
          },
          "metadata": {},
          "output_type": "display_data"
        }
      ],
      "source": [
        "# 黄金比\n",
        "ϕ = (1 + sqrt(5))/2"
      ]
    },
    {
      "cell_type": "code",
      "execution_count": 77,
      "id": "a13ff7dd",
      "metadata": {
        "id": "a13ff7dd"
      },
      "outputs": [
        {
          "data": {
            "text/plain": [
              "(6.283185307179586, 3.4641016151377544)"
            ]
          },
          "metadata": {},
          "output_type": "display_data"
        }
      ],
      "source": [
        "# 数学的な記法が使える！\n",
        "# 2πは 2*π と同じ意味\n",
        "2π, 2sqrt(3)"
      ]
    },
    {
      "cell_type": "code",
      "execution_count": 80,
      "id": "2ff9276a",
      "metadata": {},
      "outputs": [
        {
          "data": {
            "text/plain": [
              "5"
            ]
          },
          "metadata": {},
          "output_type": "display_data"
        }
      ],
      "source": [
        "#絶対値 abs()\n",
        "abs(-5)"
      ]
    },
    {
      "cell_type": "code",
      "execution_count": null,
      "id": "2efaea7d",
      "metadata": {},
      "outputs": [
        {
          "data": {
            "text/plain": [
              "0.49999999999999994"
            ]
          },
          "metadata": {},
          "output_type": "display_data"
        }
      ],
      "source": [
        "# 三角関数\n",
        "sin(π/6)"
      ]
    },
    {
      "cell_type": "code",
      "execution_count": null,
      "id": "d890b0c4",
      "metadata": {},
      "outputs": [
        {
          "data": {
            "text/plain": [
              "0.7071067811865476"
            ]
          },
          "metadata": {},
          "output_type": "display_data"
        }
      ],
      "source": [
        "# 三角関数\n",
        "cos(π/4)"
      ]
    },
    {
      "cell_type": "code",
      "execution_count": null,
      "id": "623d75df",
      "metadata": {},
      "outputs": [
        {
          "data": {
            "text/plain": [
              "0.5"
            ]
          },
          "metadata": {},
          "output_type": "display_data"
        }
      ],
      "source": [
        "# 度数法でπ/6=30°\n",
        "sind(30)\n"
      ]
    },
    {
      "cell_type": "code",
      "execution_count": 135,
      "id": "0f471a7a",
      "metadata": {},
      "outputs": [
        {
          "data": {
            "text/plain": [
              "0.7071067811865476"
            ]
          },
          "metadata": {},
          "output_type": "display_data"
        }
      ],
      "source": [
        "# 度数法でπ/4=45°\n",
        "cosd(45)"
      ]
    },
    {
      "cell_type": "code",
      "execution_count": 83,
      "id": "dcf5a7d0",
      "metadata": {},
      "outputs": [
        {
          "data": {
            "text/plain": [
              "7.38905609893065"
            ]
          },
          "metadata": {},
          "output_type": "display_data"
        }
      ],
      "source": [
        "# 指数関数\n",
        "exp(2)"
      ]
    },
    {
      "cell_type": "code",
      "execution_count": 84,
      "id": "d5a1e519",
      "metadata": {},
      "outputs": [
        {
          "data": {
            "text/plain": [
              "3.0"
            ]
          },
          "metadata": {},
          "output_type": "display_data"
        }
      ],
      "source": [
        "# 対数関数 log₂(8)\n",
        "\n",
        "log(2,8)\n"
      ]
    },
    {
      "cell_type": "code",
      "execution_count": 86,
      "id": "d75d73fc",
      "metadata": {},
      "outputs": [
        {
          "data": {
            "text/plain": [
              "1"
            ]
          },
          "metadata": {},
          "output_type": "display_data"
        }
      ],
      "source": [
        "# 対数関数 ln(e) , log(e)\n",
        "log(ℯ)"
      ]
    },
    {
      "cell_type": "markdown",
      "id": "calculation_examples",
      "metadata": {
        "id": "calculation_examples"
      },
      "source": [
        "## 計算の順序と括弧"
      ]
    },
    {
      "cell_type": "code",
      "execution_count": 87,
      "id": "a7883009",
      "metadata": {
        "id": "a7883009"
      },
      "outputs": [
        {
          "data": {
            "text/plain": [
              "2.5833333333333335"
            ]
          },
          "metadata": {},
          "output_type": "display_data"
        }
      ],
      "source": [
        "# 小数での計算\n",
        "1/3 + 3 * (1 - 1/4)"
      ]
    },
    {
      "cell_type": "code",
      "execution_count": 88,
      "id": "1fcb7cdf",
      "metadata": {
        "id": "1fcb7cdf"
      },
      "outputs": [
        {
          "data": {
            "text/plain": [
              "31//12"
            ]
          },
          "metadata": {},
          "output_type": "display_data"
        }
      ],
      "source": [
        "# 分数での厳密計算（//を使う）\n",
        "1//3 + 3 * (1 - 1//4)"
      ]
    },
    {
      "cell_type": "code",
      "execution_count": 89,
      "id": "e6a2f5cb",
      "metadata": {
        "id": "e6a2f5cb"
      },
      "outputs": [
        {
          "data": {
            "text/plain": [
              "1024"
            ]
          },
          "metadata": {},
          "output_type": "display_data"
        }
      ],
      "source": [
        "# べき乗の計算（^を使う）\n",
        "2^10"
      ]
    },
    {
      "cell_type": "code",
      "execution_count": 90,
      "id": "power_examples",
      "metadata": {
        "id": "power_examples"
      },
      "outputs": [
        {
          "data": {
            "text/plain": [
              "2.23606797749979"
            ]
          },
          "metadata": {},
          "output_type": "display_data"
        }
      ],
      "source": [
        "# いろいろなべき乗\n",
        "5^(1/2)"
      ]
    },
    {
      "cell_type": "markdown",
      "id": "calculation_check",
      "metadata": {
        "id": "calculation_check"
      },
      "source": [
        "## 計算チェック！\n",
        "\n",
        "手計算の結果をJuliaで確認してみましょう。\n",
        "\n",
        "展開の公式：$(2\\sqrt{3}+5)(\\sqrt{3}-1) = 2\\sqrt{3} \\cdot \\sqrt{3} - 2\\sqrt{3} + 5\\sqrt{3} - 5 = 6 - 2\\sqrt{3} + 5\\sqrt{3} - 5 = 1 + 3\\sqrt{3}$\n"
      ]
    },
    {
      "cell_type": "code",
      "execution_count": 91,
      "id": "m97_55e1_f0q",
      "metadata": {
        "id": "m97_55e1_f0q"
      },
      "outputs": [
        {
          "data": {
            "text/plain": [
              "6.19615242270663"
            ]
          },
          "metadata": {},
          "output_type": "display_data"
        }
      ],
      "source": [
        "# 左辺を計算\n",
        "(2sqrt(3) + 5) * (sqrt(3) - 1)"
      ]
    },
    {
      "cell_type": "code",
      "execution_count": 92,
      "id": "sUmkR4Dd_9Jv",
      "metadata": {
        "id": "sUmkR4Dd_9Jv"
      },
      "outputs": [
        {
          "data": {
            "text/plain": [
              "6.196152422706632"
            ]
          },
          "metadata": {},
          "output_type": "display_data"
        }
      ],
      "source": [
        "# 右辺を計算\n",
        "1 + 3sqrt(3)"
      ]
    },
    {
      "cell_type": "code",
      "execution_count": 93,
      "id": "verification",
      "metadata": {
        "id": "verification"
      },
      "outputs": [
        {
          "data": {
            "text/plain": [
              "true"
            ]
          },
          "metadata": {},
          "output_type": "display_data"
        }
      ],
      "source": [
        "# 両辺が等しいか確認\n",
        "(2sqrt(3) + 5) * (sqrt(3) - 1) ≈ 1 + 3sqrt(3) # ≈ は「ほぼ等しい」の意味"
      ]
    },
    {
      "cell_type": "markdown",
      "id": "a9e442c6",
      "metadata": {
        "id": "a9e442c6"
      },
      "source": [
        "## 変数を使って計算してみよう\n",
        "\n",
        "数学と同じように、文字に数値を代入して計算できます。\n"
      ]
    },
    {
      "cell_type": "code",
      "execution_count": 103,
      "id": "b0aa3a58",
      "metadata": {
        "id": "b0aa3a58"
      },
      "outputs": [
        {
          "data": {
            "text/plain": [
              "7"
            ]
          },
          "metadata": {},
          "output_type": "display_data"
        }
      ],
      "source": [
        "# 変数 x に値を代入\n",
        "x = 7 "
      ]
    },
    {
      "cell_type": "code",
      "execution_count": 104,
      "id": "eRLEfC8q4xVG",
      "metadata": {
        "id": "eRLEfC8q4xVG"
      },
      "outputs": [
        {
          "data": {
            "text/plain": [
              "10"
            ]
          },
          "metadata": {},
          "output_type": "display_data"
        }
      ],
      "source": [
        "# 変数 y に値を代入\n",
        "y = 10"
      ]
    },
    {
      "cell_type": "code",
      "execution_count": 105,
      "id": "e49af55a",
      "metadata": {},
      "outputs": [
        {
          "data": {
            "text/plain": [
              "-2"
            ]
          },
          "metadata": {},
          "output_type": "display_data"
        }
      ],
      "source": [
        "4x-3y"
      ]
    },
    {
      "cell_type": "code",
      "execution_count": 106,
      "id": "8fe96fbd",
      "metadata": {},
      "outputs": [
        {
          "data": {
            "text/plain": [
              "149//70"
            ]
          },
          "metadata": {},
          "output_type": "display_data"
        }
      ],
      "source": [
        "(x^2+y^2)//(x*y)"
      ]
    },
    {
      "cell_type": "markdown",
      "id": "formula_verification",
      "metadata": {
        "id": "formula_verification"
      },
      "source": [
        "### 数学の公式を確認してみよう！\n",
        "\n",
        "和と積の公式：$x = 2 + \\sqrt{3}$, $y = 2 - \\sqrt{3}$ のとき\n",
        "\n",
        "- $x + y = (2 + \\sqrt{3}) + (2 - \\sqrt{3}) = 4$\n",
        "- $xy = (2 + \\sqrt{3})(2 - \\sqrt{3}) = 4 - 3 = 1$\n",
        "\n",
        "3乗の和の公式：$x^3 + y^3 = (x + y)(x^2 - xy + y^2) = (x + y)^3-3xy(x + y)$\n"
      ]
    },
    {
      "cell_type": "code",
      "execution_count": 107,
      "id": "47f98da4",
      "metadata": {},
      "outputs": [
        {
          "data": {
            "text/plain": [
              "(3.732050807568877, 0.2679491924311228)"
            ]
          },
          "metadata": {},
          "output_type": "display_data"
        }
      ],
      "source": [
        "x , y = 2 + sqrt(3) , 2 - sqrt(3)"
      ]
    },
    {
      "cell_type": "code",
      "execution_count": 108,
      "id": "e1f0fbda",
      "metadata": {
        "id": "e1f0fbda"
      },
      "outputs": [
        {
          "data": {
            "text/plain": [
              "4.0"
            ]
          },
          "metadata": {},
          "output_type": "display_data"
        }
      ],
      "source": [
        "# x + y を計算\n",
        "x + y"
      ]
    },
    {
      "cell_type": "code",
      "execution_count": 109,
      "id": "xy_calculation",
      "metadata": {
        "id": "xy_calculation"
      },
      "outputs": [
        {
          "data": {
            "text/plain": [
              "1.0000000000000004"
            ]
          },
          "metadata": {},
          "output_type": "display_data"
        }
      ],
      "source": [
        "# x × y を計算\n",
        "x * y"
      ]
    },
    {
      "cell_type": "code",
      "execution_count": 110,
      "id": "66f417a3",
      "metadata": {
        "id": "66f417a3"
      },
      "outputs": [
        {
          "data": {
            "text/plain": [
              "51.99999999999999"
            ]
          },
          "metadata": {},
          "output_type": "display_data"
        }
      ],
      "source": [
        "# x³ + y³ を計算\n",
        "x^3 + y^3"
      ]
    },
    {
      "cell_type": "code",
      "execution_count": null,
      "id": "261d17e8",
      "metadata": {},
      "outputs": [
        {
          "data": {
            "text/plain": [
              "true"
            ]
          },
          "metadata": {},
          "output_type": "display_data"
        }
      ],
      "source": [
        "# 両辺が等しいか確認\n",
        "x^3+y^3 ≈ (x+y)*(x^2-x*y+y^2)"
      ]
    },
    {
      "cell_type": "code",
      "execution_count": null,
      "id": "e39f5a62",
      "metadata": {},
      "outputs": [
        {
          "data": {
            "text/plain": [
              "true"
            ]
          },
          "metadata": {},
          "output_type": "display_data"
        }
      ],
      "source": [
        "# 両辺が等しいか確認\n",
        "(x+y)*(x^2-x*y+y^2) ≈ (x+y)^3 -3*x*y*(x+y)"
      ]
    },
    {
      "cell_type": "markdown",
      "id": "93a856c4",
      "metadata": {
        "id": "93a856c4"
      },
      "source": [
        "## Day 1 の演習問題\n",
        "\n",
        "以下の問題に取り組んでみましょう。\n",
        "\n",
        "- まずJuliaのコードで計算してみよう\n",
        "- 次に，自分の手と頭で解いて、答えをJuliaでチェックしよう\n",
        "- ノートブックを保存して、Google Classroomから提出しよう\n",
        "\n",
        "### 問題1: 展開と計算\n",
        "\n",
        "次の式を計算しよう：\n",
        "\n",
        "$$\\displaystyle{(2\\sqrt{3}+1)(\\sqrt{3}-4)}$$\n",
        "\n",
        "1. まず，そのままJuliade計算しよう！\n",
        "2. 次に展開して，その値をJuliaで評価しよう！\n",
        "3. 2つの値が等しいかチェックしよう！\n",
        "\n",
        "\n",
        "### 問題2: 変数を使った計算\n",
        "\n",
        "$\\displaystyle{x=2+\\sqrt{7}}$，$\\displaystyle{y=3-\\sqrt{7}}$ のとき、次の値を求めましょう：\n",
        "\n",
        "$$x^3 + xy + y^3$$\n",
        "\n",
        "\n",
        "1. $x$と$y$の値を定義して，そのままJuliaで計算しよう。\n",
        "2. 次に，自分で工夫して$x^3 + xy + y^3$ を計算して，その結果をJuliaで評価してみよう。\n",
        "3. 2つの値が等しいかチェックしよう！\n",
        "\n",
        "### 問題3: 三角関数の値\n",
        "\n",
        "$\\sin\\frac{\\pi}{4} + \\cos\\frac{\\pi}{3}$（$\\sin45^\\circ + \\cos60^\\circ$）の値を求めましょう。\n",
        "\n",
        "1. まず，そのままJuliade計算しよう！\n",
        "2. 次に手計算してその値をJuliaで評価しよう！\n",
        "3. 2つの値が等しいかチェックしよう！\n",
        "\n",
        "\n",
        "### 発展問題\n",
        "\n",
        "$$ 4 \\sin \\frac{2\\pi}{11} +\\tan\\frac{3\\pi}{11}=\\sqrt{x} $$\n",
        "\n",
        "$x$に当てはまる整数はなんでしょうか？（2つの値が等しいことをチェックしよう！）\n"
      ]
    },
    {
      "cell_type": "markdown",
      "id": "answer_section",
      "metadata": {
        "id": "answer_section"
      },
      "source": [
        "## 解答欄\n",
        "\n",
        "以下のセルに解答を記入してください。\n"
      ]
    },
    {
      "cell_type": "markdown",
      "id": "answer1_title",
      "metadata": {
        "id": "answer1_title"
      },
      "source": [
        "### 問題1の解答"
      ]
    },
    {
      "cell_type": "code",
      "execution_count": null,
      "id": "0VwNS26K97jR",
      "metadata": {
        "id": "0VwNS26K97jR"
      },
      "outputs": [
        {
          "data": {
            "text/plain": [
              "-10.12435565298214"
            ]
          },
          "metadata": {},
          "output_type": "display_data"
        }
      ],
      "source": [
        "# 問題1: (2√3+1)(√3-4) をそのままJuliaで計算してみましょう。 \n",
        "# 1. まず，そのままJuliade計算しよう！\n",
        "\n",
        "\n",
        "(2√3+1)*(√3-4)\n"
      ]
    },
    {
      "cell_type": "code",
      "execution_count": null,
      "id": "8a32b9c5",
      "metadata": {},
      "outputs": [
        {
          "data": {
            "text/plain": [
              "-10.12435565298214"
            ]
          },
          "metadata": {},
          "output_type": "display_data"
        }
      ],
      "source": [
        "# 2. 次に展開して，その値をJuliaで評価しよう！\n",
        "\n",
        "2-7√3\n"
      ]
    },
    {
      "cell_type": "code",
      "execution_count": 133,
      "id": "2b8ab314",
      "metadata": {},
      "outputs": [
        {
          "data": {
            "text/plain": [
              "true"
            ]
          },
          "metadata": {},
          "output_type": "display_data"
        }
      ],
      "source": [
        "# 3. 2つの値が等しいかチェックしよう！\n",
        "# ≈ を使います。\n",
        "\n",
        "(2√3+1)*(√3-4) ≈ 2-7√3"
      ]
    },
    {
      "cell_type": "markdown",
      "id": "answer2_title",
      "metadata": {
        "id": "answer2_title"
      },
      "source": [
        "### 問題2の解答"
      ]
    },
    {
      "cell_type": "code",
      "execution_count": 128,
      "id": "answer2_code",
      "metadata": {
        "id": "answer2_code"
      },
      "outputs": [
        {
          "data": {
            "text/plain": [
              "101.95948164509574"
            ]
          },
          "metadata": {},
          "output_type": "display_data"
        }
      ],
      "source": [
        "# 問題2: x=2+√7, y=2-√7 のとき x³+xy+y³ を求める\n",
        "# 1. xとyの値を定義して，そのままJuliaで計算しよう。\n",
        "\n",
        "x = 2+√7\n",
        "y = 3-√7 \n",
        "x^3+x*y+y^3\n"
      ]
    },
    {
      "cell_type": "code",
      "execution_count": 130,
      "id": "6576d04f",
      "metadata": {},
      "outputs": [
        {
          "data": {
            "text/plain": [
              "101.95948164509572"
            ]
          },
          "metadata": {},
          "output_type": "display_data"
        }
      ],
      "source": [
        "# 2. 次に，自分で工夫して x³+xy+y³ を計算して，その結果をJuliaで評価してみよう。\n",
        "# x+y = 4\n",
        "# xy = (2+√7)(3-√7)=√7-1\n",
        "# x^3+xy+y^3 = (x+y)^3-3xy(x+y)+xy\n",
        "\n",
        "5^3-3*(√7-1)*5+(√7-1)\n",
        "\n"
      ]
    },
    {
      "cell_type": "code",
      "execution_count": 131,
      "id": "2bb19e83",
      "metadata": {},
      "outputs": [
        {
          "data": {
            "text/plain": [
              "true"
            ]
          },
          "metadata": {},
          "output_type": "display_data"
        }
      ],
      "source": [
        "# 3. 2つの値が等しいかチェックしよう！\n",
        "# ≈ を使います。\n",
        "\n",
        "x^3+x*y+y^3 ≈ 5^3-3*(√7-1)*5+(√7-1)"
      ]
    },
    {
      "cell_type": "markdown",
      "id": "answer3_title",
      "metadata": {
        "id": "answer3_title"
      },
      "source": [
        "### 問題3の解答"
      ]
    },
    {
      "cell_type": "code",
      "execution_count": 121,
      "id": "answer3_code",
      "metadata": {
        "id": "answer3_code"
      },
      "outputs": [
        {
          "data": {
            "text/plain": [
              "1.2071067811865475"
            ]
          },
          "metadata": {},
          "output_type": "display_data"
        }
      ],
      "source": [
        "# 問題3: 三角関数の値の計算\n",
        "# 1. sin(π/4)+cos(π/3)を，そのままJuliaで計算しよう。\n",
        "\n",
        "sin(π/4)+cos(π/3)\n",
        "\n"
      ]
    },
    {
      "cell_type": "code",
      "execution_count": 122,
      "id": "01dbfdc3",
      "metadata": {},
      "outputs": [
        {
          "data": {
            "text/plain": [
              "1.2071067811865475"
            ]
          },
          "metadata": {},
          "output_type": "display_data"
        }
      ],
      "source": [
        "# 2. 次に手計算してその値をJuliaで評価しよう！\n",
        "\n",
        "1/√2 +1/2"
      ]
    },
    {
      "cell_type": "code",
      "execution_count": 123,
      "id": "b2fd3e09",
      "metadata": {},
      "outputs": [
        {
          "data": {
            "text/plain": [
              "true"
            ]
          },
          "metadata": {},
          "output_type": "display_data"
        }
      ],
      "source": [
        "# 3. 2つの値が等しいかチェックしよう！\n",
        "\n",
        "sin(π/4)+cos(π/3) ≈ 1/√2 +1/2"
      ]
    },
    {
      "cell_type": "markdown",
      "id": "679c8ada",
      "metadata": {},
      "source": [
        "### 発展問題の解答（時間のある人はどうぞ）"
      ]
    },
    {
      "cell_type": "code",
      "execution_count": 127,
      "id": "7aa19a6b",
      "metadata": {},
      "outputs": [
        {
          "data": {
            "text/plain": [
              "true"
            ]
          },
          "metadata": {},
          "output_type": "display_data"
        }
      ],
      "source": [
        "### 発展問題（時間のある人はどうぞ） 4sin(2π/11)+tan(3π/11)=√x\n",
        "\n",
        "4sin(2π/11)+tan(3π/11) ≈ √11"
      ]
    },
    {
      "cell_type": "markdown",
      "id": "conclusion",
      "metadata": {
        "id": "conclusion"
      },
      "source": [
        "## まとめ\n",
        "\n",
        "今日は以下のことを学びました：\n",
        "\n",
        "- Google Colabの基本的な使い方\n",
        "- Julia言語の基本的な計算方法\n",
        "- 数学定数（π、e）の使用\n",
        "- 数学関数（sqrt、sin、cos、logなど）の活用\n",
        "- 変数を使った計算\n",
        "- 手計算とプログラムでの計算結果の比較\n",
        "\n",
        "### Julia言語のメリット\n",
        "\n",
        "1. **直感的な記法**：数学の式をほぼそのまま書ける\n",
        "2. **高精度計算**：複雑な計算も正確に実行\n",
        "3. **計算の検証**：手計算の結果をすぐに確認できる\n",
        "4. **学習効果**：計算過程を可視化して理解を深められる\n",
        "\n",
        "### 次回予告\n",
        "\n",
        "Day 2では、関数を定義してグラフを描画します。1次関数、2次関数、三角関数などの美しいグラフを作成し、関数の性質を視覚的に理解してみましょう！\n",
        "\n",
        "### 提出について\n",
        "\n",
        "このノートブックに解答を記入し、保存してからGoogle Classroomに提出してください。\n"
      ]
    }
  ],
  "metadata": {
    "colab": {
      "provenance": []
    },
    "kernelspec": {
      "display_name": "Julia 1.11.6",
      "language": "julia",
      "name": "julia-1.11"
    },
    "language_info": {
      "file_extension": ".jl",
      "mimetype": "application/julia",
      "name": "julia",
      "version": "1.11.6"
    }
  },
  "nbformat": 4,
  "nbformat_minor": 5
}

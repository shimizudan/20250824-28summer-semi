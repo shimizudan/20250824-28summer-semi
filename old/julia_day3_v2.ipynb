{
  "cells": [
    {
      "cell_type": "markdown",
      "id": "header",
      "metadata": {
        "id": "header"
      },
      "source": [
        "# 高校数学とJulia言語 Day 3\n",
        "\n",
        "- 城北中学校・高等学校　中学3年・高校1年\n",
        "- 夏期講習会III 2025/8/24~2025/8/28\n",
        "- 担当：清水団\n",
        "\n",
        "## 本日のテーマ：関数の最大・最小を求めよう！\n",
        "\n",
        "### 5日間の学習予定\n",
        "- **Day 1**：Google Colabの紹介・基本計算 ✅\n",
        "- **Day 2**：関数のグラフの描画 ✅\n",
        "- **Day 3**：最適化（最大・最小） ← 今日\n",
        "- **Day 4**：データの分析\n",
        "- **Day 5**：確率・シミュレーション\n"
      ]
    },
    {
      "cell_type": "markdown",
      "id": "introduction",
      "metadata": {
        "id": "introduction"
      },
      "source": [
        "## 最大・最小を求める意味\n",
        "\n",
        "関数の最大値・最小値を求めることは、数学だけでなく実生活でも重要です：\n",
        "\n",
        "- **経済学**：利益を最大化、費用を最小化\n",
        "- **工学**：材料を最小限で最大の強度を得る\n",
        "- **スポーツ**：最高記録を出すための軌道\n",
        "- **日常生活**：時間や労力を最小にして最大の効果を得る\n",
        "\n",
        "今日は、グラフを描いて視覚的に最大・最小を見つけ、その後数値的に正確な値を求める方法を学びます。\n"
      ]
    },
    {
      "cell_type": "markdown",
      "id": "package_setup",
      "metadata": {
        "id": "package_setup"
      },
      "source": [
        "## 必要なパッケージの準備\n",
        "\n",
        "グラフの描画に必要なパッケージを読み込みましょう。\n"
      ]
    },
    {
      "cell_type": "code",
      "execution_count": null,
      "id": "load_packages",
      "metadata": {
        "id": "load_packages"
      },
      "outputs": [],
      "source": [
        "# パッケージの読み込み\n",
        "using Plots\n",
        "\n",
        "# フォント設定（日本語ラベルのため）\n",
        "gr(fontfamily=\"ipam\")\n",
        "\n",
        "println(\"パッケージの読み込み完了！\")"
      ]
    },
    {
      "cell_type": "markdown",
      "id": "basic_optimization",
      "metadata": {
        "id": "basic_optimization"
      },
      "source": [
        "## 基本的な最大・最小問題\n",
        "\n",
        "まずは簡単な2次関数から始めてみましょう。\n",
        "\n",
        "### 問題1：2次関数 $f(x) = -x^2 + 4x + 1$ の最大値を求める\n",
        "\n",
        "この関数は下に凸の放物線なので、頂点で最大値をとります。\n"
      ]
    },
    {
      "cell_type": "code",
      "execution_count": null,
      "id": "quadratic_function",
      "metadata": {
        "id": "quadratic_function"
      },
      "outputs": [],
      "source": [
        "# 関数を定義\n",
        "f1(x) = -x^2 + 4x + 1\n",
        "\n",
        "# グラフを描いて最大値の位置を予想\n",
        "plot(f1, -1:0.1:6, linewidth=3, label=\"f(x) = -x² + 4x + 1\", color=:blue)\n",
        "title!(\"2次関数の最大値\")\n",
        "xlabel!(\"x\")\n",
        "ylabel!(\"f(x)\")\n",
        "grid!(true)"
      ]
    },
    {
      "cell_type": "markdown",
      "id": "analytical_solution1",
      "metadata": {
        "id": "analytical_solution1"
      },
      "source": [
        "### 理論的解法との比較\n",
        "\n",
        "2次関数 $f(x) = -x^2 + 4x + 1$ の最大値は、頂点の公式で求められます：\n",
        "- $f(x) = ax^2 + bx + c$ において、頂点のx座標は $x = -\\frac{b}{2a}$\n",
        "- この場合：$a = -1, b = 4$ なので $x = -\\frac{4}{2(-1)} = 2$\n",
        "- 最大値：$f(2) = -(2)^2 + 4(2) + 1 = -4 + 8 + 1 = 5$\n"
      ]
    },
    {
      "cell_type": "code",
      "execution_count": null,
      "id": "numerical_search1",
      "metadata": {
        "id": "numerical_search1"
      },
      "outputs": [],
      "source": [
        "# 数値的に最大値を探す\n",
        "# グラフから x = 2 付近が最大値と予想されるので、その周辺を詳しく調べる\n",
        "\n",
        "x_values = 1.5:0.01:2.5  # x = 1.5 から 2.5 まで 0.01 刻み\n",
        "y_values = f1.(x_values)  # 各x値での関数値を計算\n",
        "\n",
        "# 最大値とその位置を見つける\n",
        "max_value = maximum(y_values)\n",
        "max_index = argmax(y_values)\n",
        "max_x = x_values[max_index]\n",
        "\n",
        "println(\"=== 数値計算による結果 ===\")\n",
        "println(\"最大値を与えるx: \", max_x)\n",
        "println(\"最大値: \", max_value)\n",
        "\n",
        "println(\"\\n=== 理論値との比較 ===\")\n",
        "theoretical_x = 2.0\n",
        "theoretical_max = f1(theoretical_x)\n",
        "println(\"理論値 x: \", theoretical_x)\n",
        "println(\"理論値 f(x): \", theoretical_max)\n",
        "\n",
        "# グラフに最大値の点を追加\n",
        "plot(f1, -1:0.1:6, linewidth=3, label=\"f(x) = -x² + 4x + 1\", color=:blue)\n",
        "scatter!([max_x], [max_value], markersize=8, color=:red, label=\"最大値 ($(round(max_x, digits=2)), $(round(max_value, digits=2)))\")\n",
        "title!(\"2次関数の最大値\")\n",
        "xlabel!(\"x\")\n",
        "ylabel!(\"f(x)\")\n",
        "grid!(true)"
      ]
    },
    {
      "cell_type": "markdown",
      "id": "constrained_optimization",
      "metadata": {
        "id": "constrained_optimization"
      },
      "source": [
        "## 区間を制限した最大・最小問題\n",
        "\n",
        "### 問題2：関数 $g(x) = x^3 - 6x^2 + 9x + 2$ の区間 $[0, 4]$ での最大値・最小値を求める\n",
        "\n",
        "3次関数では、極大値・極小値が複数存在することがあります。指定された区間での最大・最小を調べてみましょう。\n"
      ]
    },
    {
      "cell_type": "code",
      "execution_count": null,
      "id": "cubic_function",
      "metadata": {
        "id": "cubic_function"
      },
      "outputs": [],
      "source": [
        "# 関数を定義\n",
        "g(x) = x^3 - 6x^2 + 9x + 2\n",
        "\n",
        "# まず広い範囲でグラフを描いて全体像を把握\n",
        "plot(g, -1:0.1:5, linewidth=3, label=\"g(x) = x³ - 6x² + 9x + 2\", color=:green)\n",
        "title!(\"3次関数の全体像\")\n",
        "xlabel!(\"x\")\n",
        "ylabel!(\"g(x)\")\n",
        "grid!(true)\n",
        "\n",
        "# 制約区間 [0, 4] を示す\n",
        "vline!([0, 4], color=:red, linewidth=2, alpha=0.7, label=\"制約区間 [0, 4]\")"
      ]
    },
    {
      "cell_type": "code",
      "execution_count": null,
      "id": "constrained_search",
      "metadata": {
        "id": "constrained_search"
      },
      "outputs": [],
      "source": [
        "# 区間 [0, 4] での数値的探索\n",
        "x_range = 0:0.01:4  # 区間 [0, 4] を 0.01 刻みで探索\n",
        "y_range = g.(x_range)\n",
        "\n",
        "# 最大値と最小値を見つける\n",
        "max_val = maximum(y_range)\n",
        "min_val = minimum(y_range)\n",
        "max_pos = x_range[argmax(y_range)]\n",
        "min_pos = x_range[argmin(y_range)]\n",
        "\n",
        "println(\"=== 区間 [0, 4] での最大・最小 ===\")\n",
        "println(\"最大値: \", round(max_val, digits=3), \" (x = \", round(max_pos, digits=3), \")\")\n",
        "println(\"最小値: \", round(min_val, digits=3), \" (x = \", round(min_pos, digits=3), \")\")\n",
        "\n",
        "# 端点での値も確認\n",
        "println(\"\\n=== 端点での値 ===\")\n",
        "println(\"g(0) = \", g(0))\n",
        "println(\"g(4) = \", g(4))\n",
        "\n",
        "# グラフに最大・最小値をプロット\n",
        "plot(g, 0:0.1:4, linewidth=3, label=\"g(x) = x³ - 6x² + 9x + 2\", color=:green)\n",
        "scatter!([max_pos], [max_val], markersize=8, color=:red, label=\"最大値 ($(round(max_pos, digits=2)), $(round(max_val, digits=2)))\")\n",
        "scatter!([min_pos], [min_val], markersize=8, color=:blue, label=\"最小値 ($(round(min_pos, digits=2)), $(round(min_val, digits=2)))\")\n",
        "title!(\"区間 [0, 4] での最大・最小\")\n",
        "xlabel!(\"x\")\n",
        "ylabel!(\"g(x)\")\n",
        "grid!(true)"
      ]
    },
    {
      "cell_type": "markdown",
      "id": "trigonometric_optimization",
      "metadata": {
        "id": "trigonometric_optimization"
      },
      "source": [
        "## 三角関数の最大・最小\n",
        "\n",
        "### 問題3：関数 $h(x) = 2\\sin(x) + \\cos(2x)$ の区間 $[0, 2\\pi]$ での最大値・最小値を求める\n",
        "\n",
        "三角関数の合成では、複雑な周期的パターンが現れることがあります。\n"
      ]
    },
    {
      "cell_type": "code",
      "execution_count": null,
      "id": "trigonometric_function",
      "metadata": {
        "id": "trigonometric_function"
      },
      "outputs": [],
      "source": [
        "# 関数を定義\n",
        "h(x) = 2sin(x) + cos(2x)\n",
        "\n",
        "# グラフを描いて周期的パターンを観察\n",
        "plot(h, 0:0.1:2π, linewidth=3, label=\"h(x) = 2sin(x) + cos(2x)\", color=:purple)\n",
        "title!(\"三角関数の合成\")\n",
        "xlabel!(\"x\")\n",
        "ylabel!(\"h(x)\")\n",
        "grid!(true)\n",
        "\n",
        "# x軸の目盛りをπ単位で表示\n",
        "xticks!([0, π/2, π, 3π/2, 2π], [\"0\", \"π/2\", \"π\", \"3π/2\", \"2π\"])"
      ]
    },
    {
      "cell_type": "code",
      "execution_count": null,
      "id": "trig_search",
      "metadata": {
        "id": "trig_search"
      },
      "outputs": [],
      "source": [
        "# 区間 [0, 2π] での数値的探索\n",
        "x_trig = 0:0.001:2π  # より細かく刻んで探索\n",
        "y_trig = h.(x_trig)\n",
        "\n",
        "# 最大値と最小値を見つける\n",
        "max_trig = maximum(y_trig)\n",
        "min_trig = minimum(y_trig)\n",
        "max_x_trig = x_trig[argmax(y_trig)]\n",
        "min_x_trig = x_trig[argmin(y_trig)]\n",
        "\n",
        "println(\"=== 区間 [0, 2π] での最大・最小 ===\")\n",
        "println(\"最大値: \", round(max_trig, digits=4), \" (x ≈ \", round(max_x_trig, digits=4), \")\")\n",
        "println(\"最小値: \", round(min_trig, digits=4), \" (x ≈ \", round(min_x_trig, digits=4), \")\")\n",
        "\n",
        "# π単位での表示\n",
        "println(\"\\n=== π単位での表示 ===\")\n",
        "println(\"最大値の位置: x ≈ \", round(max_x_trig/π, digits=3), \"π\")\n",
        "println(\"最小値の位置: x ≈ \", round(min_x_trig/π, digits=3), \"π\")\n",
        "\n",
        "# グラフに最大・最小値をプロット\n",
        "plot(h, 0:0.01:2π, linewidth=3, label=\"h(x) = 2sin(x) + cos(2x)\", color=:purple)\n",
        "scatter!([max_x_trig], [max_trig], markersize=8, color=:red, label=\"最大値\")\n",
        "scatter!([min_x_trig], [min_trig], markersize=8, color=:blue, label=\"最小値\")\n",
        "title!(\"三角関数の最大・最小\")\n",
        "xlabel!(\"x\")\n",
        "ylabel!(\"h(x)\")\n",
        "xticks!([0, π/2, π, 3π/2, 2π], [\"0\", \"π/2\", \"π\", \"3π/2\", \"2π\"])\n",
        "grid!(true)"
      ]
    },
    {
      "cell_type": "markdown",
      "id": "practical_problem",
      "metadata": {
        "id": "practical_problem"
      },
      "source": [
        "## 実用的な最適化問題\n",
        "\n",
        "### 問題4：箱の体積最大化問題\n",
        "\n",
        "一辺の長さが20cmの正方形の紙の四隅から同じ大きさの正方形を切り取って箱を作るとき、箱の体積を最大にする切り取る長さを求めましょう。\n",
        "\n",
        "- 切り取る正方形の一辺の長さを $x$ cm とする\n",
        "- 箱の底面は $(20-2x) \\times (20-2x)$ cm²\n",
        "- 箱の高さは $x$ cm\n",
        "- 体積は $V(x) = x(20-2x)^2$ cm³\n",
        "- 制約：$0 < x < 10$\n"
      ]
    },
    {
      "cell_type": "code",
      "execution_count": null,
      "id": "box_problem",
      "metadata": {
        "id": "box_problem"
      },
      "outputs": [],
      "source": [
        "# 箱の体積を表す関数\n",
        "V(x) = x * (20 - 2x)^2\n",
        "\n",
        "# グラフを描いて最大値の位置を予想\n",
        "plot(V, 0.1:0.1:9.9, linewidth=3, label=\"V(x) = x(20-2x)²\", color=:orange)\n",
        "title!(\"箱の体積と切り取る長さの関係\")\n",
        "xlabel!(\"切り取る長さ x (cm)\")\n",
        "ylabel!(\"体積 V(x) (cm³)\")\n",
        "grid!(true)"
      ]
    },
    {
      "cell_type": "code",
      "execution_count": null,
      "id": "box_optimization",
      "metadata": {
        "id": "box_optimization"
      },
      "outputs": [],
      "source": [
        "# 体積を最大化する切り取り長さを数値的に求める\n",
        "x_box = 0.1:0.01:9.9\n",
        "v_box = V.(x_box)\n",
        "\n",
        "max_volume = maximum(v_box)\n",
        "optimal_x = x_box[argmax(v_box)]\n",
        "\n",
        "println(\"=== 箱の体積最大化 ===\")\n",
        "println(\"最適な切り取り長さ: \", round(optimal_x, digits=2), \" cm\")\n",
        "println(\"最大体積: \", round(max_volume, digits=1), \" cm³\")\n",
        "\n",
        "# 微分を使った理論解との比較\n",
        "# V(x) = x(20-2x)² = x(400 - 80x + 4x²) = 400x - 80x² + 4x³\n",
        "# V'(x) = 400 - 160x + 12x² = 0\n",
        "# 12x² - 160x + 400 = 0\n",
        "# 3x² - 40x + 100 = 0\n",
        "\n",
        "# 2次方程式の解の公式を使用\n",
        "a, b, c = 3, -40, 100\n",
        "discriminant = b^2 - 4*a*c\n",
        "x1 = (-b + sqrt(discriminant)) / (2*a)\n",
        "x2 = (-b - sqrt(discriminant)) / (2*a)\n",
        "\n",
        "println(\"\\n=== 理論解 ===\")\n",
        "println(\"x₁ = \", round(x1, digits=3), \" cm\")\n",
        "println(\"x₂ = \", round(x2, digits=3), \" cm\")\n",
        "println(\"V(x₁) = \", round(V(x1), digits=1), \" cm³\")\n",
        "println(\"V(x₂) = \", round(V(x2), digits=1), \" cm³\")\n",
        "\n",
        "# 制約 0 < x < 10 を満たす解を選択\n",
        "valid_x = (0 < x1 < 10) ? x1 : x2\n",
        "println(\"\\n有効な解: x = \", round(valid_x, digits=3), \" cm\")\n",
        "\n",
        "# グラフに最適解をプロット\n",
        "plot(V, 0.1:0.1:9.9, linewidth=3, label=\"V(x) = x(20-2x)²\", color=:orange)\n",
        "scatter!([optimal_x], [max_volume], markersize=8, color=:red, label=\"最大値 ($(round(optimal_x, digits=2)), $(round(max_volume, digits=0)))\")\n",
        "title!(\"箱の体積最大化\")\n",
        "xlabel!(\"切り取る長さ x (cm)\")\n",
        "ylabel!(\"体積 V(x) (cm³)\")\n",
        "grid!(true)"
      ]
    },
    {
      "cell_type": "markdown",
      "id": "comparison_methods",
      "metadata": {
        "id": "comparison_methods"
      },
      "source": [
        "## 最大・最小を求める方法の比較\n",
        "\n",
        "今日学んだ数値的手法と理論的手法を比較してみましょう。\n",
        "\n",
        "### 数値的手法（今日の方法）\n",
        "**メリット：**\n",
        "- 複雑な関数でも適用可能\n",
        "- グラフで視覚的に理解できる\n",
        "- プログラムで自動化できる\n",
        "- 制約条件を簡単に扱える\n",
        "\n",
        "**デメリット：**\n",
        "- 近似解しか得られない\n",
        "- 計算時間がかかる場合がある\n",
        "- 局所的な最大・最小を見落とす可能性\n",
        "\n",
        "### 理論的手法（微分を使用）\n",
        "**メリット：**\n",
        "- 厳密解が得られる\n",
        "- 計算が高速\n",
        "- 数学的に美しい\n",
        "\n",
        "**デメリット：**\n",
        "- 微分可能な関数に限定\n",
        "- 複雑な関数では計算が困難\n",
        "- 制約条件の扱いが複雑\n"
      ]
    },
    {
      "cell_type": "markdown",
      "id": "exercises",
      "metadata": {
        "id": "exercises"
      },
      "source": [
        "## Day 3 の演習問題\n",
        "\n",
        "以下の問題に取り組んでみましょう。まずグラフを描いて最大・最小の位置を予想し、その後数値的に正確な値を求めてください。\n",
        "\n",
        "### 問題1: 2次関数の最小値\n",
        "\n",
        "関数 $f(x) = 2x^2 - 8x + 11$ の最小値とそのときの $x$ の値を求めてください。\n",
        "\n",
        "1. まずグラフを描いて、最小値の位置を視覚的に確認\n",
        "2. 数値的に最小値と最小値を与える $x$ を求める\n",
        "3. 理論値（頂点の公式）と比較\n",
        "\n",
        "### 問題2: 3次関数の制約付き最適化\n",
        "\n",
        "関数 $g(x) = x^3 - 3x^2 + 2$ の区間 $[-1, 3]$ での最大値と最小値を求めてください。\n",
        "\n",
        "1. グラフを描いて全体像を把握\n",
        "2. 区間内での最大値・最小値を数値的に求める\n",
        "3. 端点での値も確認して比較\n",
        "\n",
        "### 問題3: 実用問題（自由課題）\n",
        "\n",
        "以下のような実用的な最適化問題のいずれか一つを選んで解いてください：\n",
        "\n",
        "**A. 缶の表面積最小化**\n",
        "- 体積が 1000 cm³ の円筒形の缶を作るとき、表面積を最小にする半径を求める\n",
        "- 体積： $V = \\pi r^2 h = 1000$\n",
        "- 表面積： $S = 2\\pi r^2 + 2\\pi r h$\n",
        "- $h = \\frac{1000}{\\pi r^2}$ を代入して $S(r)$ を最小化\n",
        "\n",
        "**B. 利益最大化**\n",
        "- ある商品の需要関数が $p = 100 - 2q$ （$p$：価格、$q$：数量）\n",
        "- 費用関数が $C(q) = 20q + 100$\n",
        "- 利益 $P(q) = pq - C(q) = (100-2q)q - (20q + 100)$ を最大化する\n",
        "\n",
        "**C. オリジナル問題**\n",
        "- 自分で実用的な最適化問題を考えて解く\n"
      ]
    },
    {
      "cell_type": "markdown",
      "id": "answer_section",
      "metadata": {
        "id": "answer_section"
      },
      "source": [
        "## 解答欄\n",
        "\n",
        "以下のセルに解答を記入してください。\n"
      ]
    },
    {
      "cell_type": "markdown",
      "id": "answer1_title",
      "metadata": {
        "id": "answer1_title"
      },
      "source": [
        "### 問題1の解答：2次関数の最小値"
      ]
    },
    {
      "cell_type": "code",
      "execution_count": null,
      "id": "answer1_code",
      "metadata": {
        "id": "answer1_code"
      },
      "outputs": [],
      "source": [
        "# 問題1: f(x) = 2x² - 8x + 11 の最小値\n",
        "# ここに解答を書いてください\n"
      ]
    },
    {
      "cell_type": "markdown",
      "id": "answer2_title",
      "metadata": {
        "id": "answer2_title"
      },
      "source": [
        "### 問題2の解答：3次関数の制約付き最適化"
      ]
    },
    {
      "cell_type": "code",
      "execution_count": null,
      "id": "answer2_code",
      "metadata": {
        "id": "
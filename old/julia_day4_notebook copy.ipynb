{
  "cells": [
    {
      "cell_type": "markdown",
      "id": "header",
      "metadata": {
        "id": "header"
      },
      "source": [
        "# 高校数学とJulia言語 Day 3\n",
        "\n",
        "- 城北中学校・高等学校　中学3年・高校1年\n",
        "- 夏期講習会III 2025/8/24~2025/8/28\n",
        "- 担当：清水団\n",
        "\n",
        "## 本日のテーマ：データの可視化と統計処理\n",
        "\n",
        "今日は実際のデータを使って、散布図やヒストグラムを作成し、データの特徴を分析してみましょう！\n"
      ]
    },
    {
      "cell_type": "markdown",
      "id": "introduction",
      "metadata": {
        "id": "introduction"
      },
      "source": [
        "## データサイエンスと統計学\n",
        "\n",
        "現代社会では、あらゆる分野でデータが重要な役割を果たしています。\n",
        "\n",
        "### データサイエンスの応用例\n",
        "- **スポーツ分析**：選手のパフォーマンス向上\n",
        "- **医療**：病気の早期発見、治療効果の分析\n",
        "- **経済**：株価予測、市場分析\n",
        "- **教育**：学習効果の測定、個別指導の最適化\n",
        "- **環境**：気候変動の分析、環境保護施策の効果測定\n",
        "\n",
        "### 統計学の基本概念\n",
        "- **記述統計**：データの特徴を数値で要約（平均、分散、標準偏差など）\n",
        "- **推測統計**：サンプルから全体の傾向を推定\n",
        "- **相関分析**：変数間の関係性を調べる\n",
        "- **回帰分析**：一つの変数から他の変数を予測\n"
      ]
    },
    {
      "cell_type": "markdown",
      "id": "package_setup",
      "metadata": {
        "id": "package_setup"
      },
      "source": [
        "## 必要なパッケージの準備\n",
        "\n",
        "データ分析に必要なパッケージをインストールして読み込みましょう。\n"
      ]
    },
    {
      "cell_type": "code",
      "execution_count": null,
      "id": "install_packages",
      "metadata": {
        "id": "install_packages"
      },
      "outputs": [
        {
          "name": "stderr",
          "output_type": "stream",
          "text": [
            "\u001b[32m\u001b[1m   Resolving\u001b[22m\u001b[39m package versions...\n",
            "\u001b[32m\u001b[1m  No Changes\u001b[22m\u001b[39m to `~/.julia/environments/v1.11/Project.toml`\n",
            "\u001b[32m\u001b[1m  No Changes\u001b[22m\u001b[39m to `~/.julia/environments/v1.11/Manifest.toml`\n"
          ]
        }
      ],
      "source": [
        "# パッケージのインストール（初回のみ実行）\n",
        "import Pkg\n",
        "Pkg.add([\"Statistics\", \"StatsBase\", \"Distributions\", \"Random\"])"
      ]
    },
    {
      "cell_type": "code",
      "execution_count": null,
      "id": "load_packages",
      "metadata": {
        "id": "load_packages"
      },
      "outputs": [
        {
          "name": "stdout",
          "output_type": "stream",
          "text": [
            "パッケージの読み込み完了！\n"
          ]
        }
      ],
      "source": [
        "# パッケージの読み込み\n",
        "using Plots\n",
        "using Statistics       # 統計関数（mean, std など）\n",
        "using StatsBase        # 統計分析（cor, cov など）\n",
        "using Distributions    # 確率分布\n",
        "using Random           # 乱数生成\n",
        "using CSV, DataFrames  # データの読み込み・処理\n",
        "\n",
        "# 乱数のシードを設定（結果を再現可能にする）\n",
        "Random.seed!(42)\n",
        "\n",
        "\n",
        "println(\"パッケージの読み込み完了！\")"
      ]
    },
    {
      "cell_type": "markdown",
      "id": "basic_statistics",
      "metadata": {
        "id": "basic_statistics"
      },
      "source": [
        "## 基本的な統計量を計算してみよう\n",
        "\n",
        "まずは簡単なデータで統計の基本を学びましょう。\n"
      ]
    },
    {
      "cell_type": "code",
      "execution_count": 2,
      "id": "sample_data",
      "metadata": {
        "id": "sample_data"
      },
      "outputs": [
        {
          "name": "stdout",
          "output_type": "stream",
          "text": [
            "数学のテストの点数：[85, 92, 78, 88, 95, 82, 90, 87, 83, 91, 76, 89, 94, 80, 86]\n",
            "データの個数：15\n"
          ]
        }
      ],
      "source": [
        "# サンプルデータ：あるクラスの数学のテストの点数\n",
        "test_scores = [85, 92, 78, 88, 95, 82, 90, 87, 83, 91, 76, 89, 94, 80, 86]\n",
        "\n",
        "println(\"数学のテストの点数：\", test_scores)\n",
        "println(\"データの個数：\", length(test_scores))"
      ]
    },
    {
      "cell_type": "code",
      "execution_count": 3,
      "id": "descriptive_stats",
      "metadata": {
        "id": "descriptive_stats"
      },
      "outputs": [
        {
          "name": "stdout",
          "output_type": "stream",
          "text": [
            "=== 基本統計量 ===\n",
            "平均値：86.4\n",
            "中央値：87.0\n",
            "最頻値：85\n",
            "\n",
            "最大値：95\n",
            "最小値：76\n",
            "範囲：19\n",
            "\n",
            "分散：32.83\n",
            "標準偏差：5.73\n",
            "\n",
            "第1四分位数：82.5\n",
            "第3四分位数：90.5\n",
            "四分位範囲：8.0\n"
          ]
        }
      ],
      "source": [
        "# 基本統計量の計算\n",
        "println(\"=== 基本統計量 ===\")\n",
        "println(\"平均値：\", round(mean(test_scores), digits=2))\n",
        "println(\"中央値：\", median(test_scores))\n",
        "println(\"最頻値：\", mode(test_scores))\n",
        "println(\"\")\n",
        "println(\"最大値：\", maximum(test_scores))\n",
        "println(\"最小値：\", minimum(test_scores))\n",
        "println(\"範囲：\", maximum(test_scores) - minimum(test_scores))\n",
        "println(\"\")\n",
        "println(\"分散：\", round(var(test_scores), digits=2))\n",
        "println(\"標準偏差：\", round(std(test_scores), digits=2))\n",
        "println(\"\")\n",
        "println(\"第1四分位数：\", quantile(test_scores, 0.25))\n",
        "println(\"第3四分位数：\", quantile(test_scores, 0.75))\n",
        "println(\"四分位範囲：\", quantile(test_scores, 0.75) - quantile(test_scores, 0.25))"
      ]
    },
    {
      "cell_type": "markdown",
      "id": "histogram_section",
      "metadata": {
        "id": "histogram_section"
      },
      "source": [
        "## ヒストグラムでデータの分布を見てみよう\n",
        "\n",
        "ヒストグラムは、データの分布を視覚的に表現する重要なグラフです。\n"
      ]
    },
    {
      "cell_type": "code",
      "execution_count": null,
      "id": "basic_histogram",
      "metadata": {
        "id": "basic_histogram"
      },
      "outputs": [],
      "source": [
        "# 基本的なヒストグラム\n",
        "histogram(test_scores, bins=5, \n",
        "         title=\"数学テストの点数分布\", \n",
        "         xlabel=\"点数\", \n",
        "         ylabel=\"人数\",\n",
        "         color=:skyblue,\n",
        "         linewidth=2,\n",
        "         alpha=0.7,\n",
        "         label=\"ヒストグラム\")\n",
        "\n",
        "# 平均値の線を追加\n",
        "vline!([mean(test_scores)], linewidth=3, color=:red, label=\"平均値\")\n",
        "\n",
        "# 中央値の線を追加\n",
        "vline!([median(test_scores)], linewidth=3, color=:green, label=\"中央値\", linestyle=:dash)"
      ]
    },
    {
      "cell_type": "code",
      "execution_count": null,
      "id": "large_dataset",
      "metadata": {
        "id": "large_dataset"
      },
      "outputs": [],
      "source": [
        "# より大きなデータセットでの例\n",
        "# 正規分布に従うランダムなデータを生成\n",
        "large_data = randn(1000) * 10 .+ 50  # 平均50、標準偏差10の正規分布\n",
        "\n",
        "histogram(large_data, bins=30, \n",
        "         title=\"正規分布のヒストグラム (n=1000)\", \n",
        "         xlabel=\"値\", \n",
        "         ylabel=\"度数\",\n",
        "         color=:lightgreen,\n",
        "         alpha=0.7,\n",
        "         normalize=true,  # 確率密度として表示\n",
        "         label=\"データ\")\n",
        "\n",
        "# 理論的な正規分布曲線を重ねる\n",
        "x_range = 20:0.1:80\n",
        "normal_curve = pdf.(Normal(mean(large_data), std(large_data)), x_range)\n",
        "plot!(x_range, normal_curve, linewidth=3, color=:red, label=\"理論的正規分布\")"
      ]
    },
    {
      "cell_type": "markdown",
      "id": "scatter_plot_section",
      "metadata": {
        "id": "scatter_plot_section"
      },
      "source": [
        "## 散布図で関係性を探ってみよう\n",
        "\n",
        "散布図は、2つの変数の関係を視覚的に表現するのに最適なグラフです。\n"
      ]
    },
    {
      "cell_type": "code",
      "execution_count": null,
      "id": "study_data",
      "metadata": {
        "id": "study_data"
      },
      "outputs": [],
      "source": [
        "# 学習時間と成績の関係を調べるデータ\n",
        "study_hours = [1, 2, 3, 4, 5, 6, 7, 8, 9, 10, 2, 3, 4, 5, 6, 7, 8, 9, 1, 10]\n",
        "exam_scores = [45, 55, 60, 68, 75, 80, 85, 88, 92, 95, 50, 58, 65, 72, 78, 83, 87, 90, 48, 93]\n",
        "\n",
        "\n",
        "# 相関係数を計算\n",
        "correlation = cor(study_hours, exam_scores)\n",
        "println(\"学習時間と成績の相関係数：\", round(correlation, digits=3))\n",
        "\n",
        "# 散布図の作成\n",
        "scatter(study_hours, exam_scores, \n",
        "        title=\"学習時間と試験成績の関係\", \n",
        "        xlabel=\"学習時間 (時間)\", \n",
        "        ylabel=\"試験成績 (点)\",\n",
        "        color=:blue,\n",
        "        markersize=4,\n",
        "        alpha=0.7,\n",
        "        label=\"データ点\")\n"
      ]
    },
    {
      "cell_type": "code",
      "execution_count": null,
      "id": "regression_line",
      "metadata": {
        "id": "regression_line"
      },
      "outputs": [],
      "source": [
        "# 回帰直線を追加\n",
        "# 最小二乗法で回帰直線の係数を求める\n",
        "n = length(study_hours)\n",
        "x_mean = mean(study_hours)\n",
        "y_mean = mean(exam_scores)\n",
        "\n",
        "# 回帰直線の傾き\n",
        "slope = sum((study_hours .- x_mean) .* (exam_scores .- y_mean)) / sum((study_hours .- x_mean).^2)\n",
        "# 回帰直線の切片\n",
        "intercept = y_mean - slope * x_mean\n",
        "\n",
        "println(\"回帰直線の方程式：y = \", round(slope, digits=2), \"x + \", round(intercept, digits=2))\n",
        "\n",
        "# 散布図と回帰直線を描画\n",
        "scatter(study_hours, exam_scores, \n",
        "        title=\"学習時間と試験成績の関係（回帰直線付き）\", \n",
        "        xlabel=\"学習時間 (時間)\", \n",
        "        ylabel=\"試験成績 (点)\",\n",
        "        color=:blue,\n",
        "        markersize=4,\n",
        "        alpha=0.7,\n",
        "        label=\"データ点\")\n",
        "\n",
        "# 回帰直線を追加\n",
        "x_line = 0:0.1:10\n",
        "y_line = slope .* x_line .+ intercept\n",
        "plot!(x_line, y_line, color=:red, linewidth=3, label=\"回帰直線\")"
      ]
    },
    {
      "cell_type": "markdown",
      "id": "multiple_variables",
      "metadata": {
        "id": "multiple_variables"
      },
      "source": [
        "## 複数の変数を同時に分析してみよう\n",
        "\n",
        "実際のデータ分析では、複数の変数を同時に考慮することが重要です。\n"
      ]
    },
    {
      "cell_type": "code",
      "execution_count": null,
      "id": "student_data",
      "metadata": {
        "id": "student_data"
      },
      "outputs": [],
      "source": [
        "# 学生の学習データ（サンプル）\n",
        "students = DataFrame(\n",
        "    name = [\"A\", \"B\", \"C\", \"D\", \"E\", \"F\", \"G\", \"H\", \"I\", \"J\", \"K\", \"L\", \"M\", \"N\", \"O\"],\n",
        "    study_hours = [2, 4, 6, 8, 3, 5, 7, 9, 1, 10, 4, 6, 8, 2, 5],\n",
        "    sleep_hours = [6, 7, 8, 7, 5, 8, 6, 8, 4, 9, 7, 8, 7, 6, 7],\n",
        "    math_score = [50, 70, 80, 90, 60, 75, 85, 95, 40, 98, 68, 78, 88, 55, 72],\n",
        "    english_score = [45, 65, 75, 85, 55, 70, 80, 90, 35, 92, 63, 73, 83, 50, 68]\n",
        ")\n",
        "\n",
        "println(\"学生データ：\")\n",
        "println(students)"
      ]
    },
    {
      "cell_type": "code",
      "execution_count": null,
      "id": "correlation_matrix",
      "metadata": {
        "id": "correlation_matrix"
      },
      "outputs": [],
      "source": [
        "# 相関行列の計算\n",
        "using StatsBase\n",
        "\n",
        "# 数値データのみを取得\n",
        "numeric_data = students[:, [:study_hours, :sleep_hours, :math_score, :english_score]]\n",
        "\n",
        "# 相関行列を計算\n",
        "correlation_matrix = cor(Matrix(numeric_data))\n",
        "\n",
        "println(\"相関行列：\")\n",
        "println(\"         学習時間  睡眠時間  数学    英語\")\n",
        "variable_names = [\"学習時間\", \"睡眠時間\", \"数学    \", \"英語    \"]\n",
        "for i in 1:4\n",
        "    print(variable_names[i], \"  \")\n",
        "    for j in 1:4\n",
        "        print(lpad(round(correlation_matrix[i,j], digits=3), 6), \"  \")\n",
        "    end\n",
        "    println()\n",
        "end"
      ]
    },
    {
      "cell_type": "code",
      "execution_count": null,
      "id": "multiple_scatter",
      "metadata": {
        "id": "multiple_scatter"
      },
      "outputs": [],
      "source": [
        "# 複数の散布図を一度に表示\n",
        "p1 = scatter(students.study_hours, students.math_score, \n",
        "            title=\"学習時間 vs 数学成績\", \n",
        "            xlabel=\"学習時間\", ylabel=\"数学成績\",\n",
        "            color=:blue, alpha=0.7)\n",
        "\n",
        "p2 = scatter(students.sleep_hours, students.math_score, \n",
        "            title=\"睡眠時間 vs 数学成績\", \n",
        "            xlabel=\"睡眠時間\", ylabel=\"数学成績\",\n",
        "            color=:green, alpha=0.7)\n",
        "\n",
        "p3 = scatter(students.math_score, students.english_score, \n",
        "            title=\"数学成績 vs 英語成績\", \n",
        "            xlabel=\"数学成績\", ylabel=\"英語成績\",\n",
        "            color=:red, alpha=0.7)\n",
        "\n",
        "p4 = scatter(students.study_hours, students.english_score, \n",
        "            title=\"学習時間 vs 英語成績\", \n",
        "            xlabel=\"学習時間\", ylabel=\"英語成績\",\n",
        "            color=:purple, alpha=0.7)\n",
        "\n",
        "# 2x2のグリッドで表示\n",
        "plot(p1, p2, p3, p4, layout=(2,2), size=(800, 600))"
      ]
    },
    {
      "cell_type": "markdown",
      "id": "distributions",
      "metadata": {
        "id": "distributions"
      },
      "source": [
        "## 様々な確率分布を探ってみよう\n",
        "\n",
        "統計学では、データの背後にある確率分布を理解することが重要です。\n"
      ]
    },
    {
      "cell_type": "code",
      "execution_count": null,
      "id": "normal_distribution",
      "metadata": {
        "id": "normal_distribution"
      },
      "outputs": [],
      "source": [
        "# 正規分布の例\n",
        "x = -4:0.1:4\n",
        "\n",
        "# 異なるパラメータの正規分布\n",
        "normal1 = pdf.(Normal(0, 1), x)      # 標準正規分布\n",
        "normal2 = pdf.(Normal(0, 0.5), x)    # 標準偏差0.5\n",
        "normal3 = pdf.(Normal(1, 1), x)      # 平均1、標準偏差1\n",
        "\n",
        "plot(x, normal1, linewidth=3, label=\"N(0,1)\", color=:blue)\n",
        "plot!(x, normal2, linewidth=3, label=\"N(0,0.5)\", color=:red)\n",
        "plot!(x, normal3, linewidth=3, label=\"N(1,1)\", color=:green)\n",
        "\n",
        "title!(\"正規分布の比較\")\n",
        "xlabel!(\"x\")\n",
        "ylabel!(\"確率密度\")"
      ]
    },
    {
      "cell_type": "code",
      "execution_count": null,
      "id": "distribution_samples",
      "metadata": {
        "id": "distribution_samples"
      },
      "outputs": [],
      "source": [
        "# 異なる分布からサンプルを生成してヒストグラムを作成\n",
        "Random.seed!(42)\n",
        "\n",
        "# 各分布から1000個のサンプルを生成\n",
        "normal_samples = rand(Normal(0, 1), 1000)\n",
        "uniform_samples = rand(Uniform(-2, 2), 1000)\n",
        "exponential_samples = rand(Exponential(1), 1000)\n",
        "\n",
        "# ヒストグラムを作成\n",
        "p1 = histogram(normal_samples, bins=30, title=\"正規分布\", \n",
        "               alpha=0.7, color=:blue, normalize=true)\n",
        "\n",
        "p2 = histogram(uniform_samples, bins=30, title=\"一様分布\", \n",
        "               alpha=0.7, color=:red, normalize=true)\n",
        "\n",
        "p3 = histogram(exponential_samples, bins=30, title=\"指数分布\", \n",
        "               alpha=0.7, color=:green, normalize=true)\n",
        "\n",
        "# 空のプロット（レイアウト調整用）\n",
        "p4 = plot([], [], title=\"\")\n",
        "\n",
        "plot(p1, p2, p3, p4, layout=(2,2), size=(800, 600))"
      ]
    },
    {
      "cell_type": "markdown",
      "id": "real_data_analysis",
      "metadata": {
        "id": "real_data_analysis"
      },
      "source": [
        "## 実際のデータ分析例：気温と売上の関係\n",
        "\n",
        "アイスクリーム店の売上データを分析してみましょう。\n"
      ]
    },
    {
      "cell_type": "code",
      "execution_count": null,
      "id": "ice_cream_data",
      "metadata": {
        "id": "ice_cream_data"
      },
      "outputs": [],
      "source": [
        "# アイスクリーム店のデータ（架空）\n",
        "Random.seed!(123)\n",
        "\n",
        "# 30日間のデータ\n",
        "days = 1:30\n",
        "temperatures = 15 .+ 10 * rand(30) .+ 3 * sin.(days / 5)  # 15-35℃の気温\n",
        "# 売上は気温に比例 + ランダム要素\n",
        "sales = 2000 .+ 100 * temperatures .+ 500 * randn(30)\n",
        "\n",
        "# データフレームを作成\n",
        "ice_cream_data = DataFrame(\n",
        "    day = days,\n",
        "    temperature = round.(temperatures, digits=1),\n",
        "    sales = round.(Int, max.(0, sales))  # 売上は負にならないよう調整\n",
        ")\n",
        "\n",
        "println(\"アイスクリーム店のデータ（最初の10日）：\")\n",
        "println(ice_cream_data[1:10, :])\n",
        "\n",
        "println(\"\\n基本統計量：\")\n",
        "println(\"平均気温：\", round(mean(ice_cream_data.temperature), digits=1), \"℃\")\n",
        "println(\"平均売上：\", round(Int, mean(ice_cream_data.sales)), \"円\")\n",
        "println(\"気温と売上の相関：\", round(cor(ice_cream_data.temperature, ice_cream_data.sales), digits=3))"
      ]
    },
    {
      "cell_type": "code",
      "execution_count": null,
      "id": "ice_cream_analysis",
      "metadata": {
        "id": "ice_cream_analysis"
      },
      "outputs": [],
      "source": [
        "# 時系列プロット\n",
        "p1 = plot(ice_cream_data.day, ice_cream_data.temperature, \n",
        "         title=\"日別気温の変化\", xlabel=\"日\", ylabel=\"気温 (℃)\",\n",
        "         color=:red, linewidth=2, marker=:circle)\n",
        "\n",
        "p2 = plot(ice_cream_data.day, ice_cream_data.sales, \n",
        "         title=\"日別売上の変化\", xlabel=\"日\", ylabel=\"売上 (円)\",\n",
        "         color=:blue, linewidth=2, marker=:circle)\n",
        "\n",
        "# 散布図\n",
        "p3 = scatter(ice_cream_data.temperature, ice_cream_data.sales, \n",
        "            title=\"気温と売上の関係\", xlabel=\"気温 (℃)\", ylabel=\"売上 (円)\",\n",
        "            color=:green, markersize=5, alpha=0.7)\n",
        "\n",
        "# 回帰直線を追加\n",
        "temp_range = minimum(ice_cream_data.temperature):0.1:maximum(ice_cream_data.temperature)\n",
        "correlation = cor(ice_cream_data.temperature, ice_cream_data.sales)\n",
        "temp_mean = mean(ice_cream_data.temperature)\n",
        "sales_mean = mean(ice_cream_data.sales)\n",
        "temp_std = std(ice_cream_data.temperature)\n",
        "sales_std = std(ice_cream_data.sales)\n",
        "\n",
        "slope = correlation * sales_std / temp_std\n",
        "intercept = sales_mean - slope * temp_mean\n",
        "\n",
        "regression_line = slope .* temp_range .+ intercept\n",
        "plot!(p3, temp_range, regression_line, color=:red, linewidth=3, label=\"回帰直線\")\n",
        "\n",
        "# 売上のヒストグラム\n",
        "p4 = histogram(ice_cream_data.sales, bins=8, title=\"売上の分布\", \n",
        "               xlabel=\"売上 (円)\", ylabel=\"度数\",\n",
        "               color=:orange, alpha=0.7)\n",
        "\n",
        "plot(p1, p2, p3, p4, layout=(2,2), size=(800, 600))"
      ]
    },
    {
      "cell_type": "markdown",
      "id": "exercises",
      "metadata": {
        "id": "exercises"
      },
      "source": [
        "## Day 3 の演習問題\n",
        "\n",
        "以下の問題に取り組んで、データ分析の技術を身につけましょう。\n",
        "\n",
        "### 問題1: 基本統計量の計算\n",
        "\n",
        "以下のデータは、ある高校の生徒20人の身長（cm）です：\n",
        "\n",
        "```\n",
        "heights = [165, 170, 168, 172, 160, 175, 169, 171, 167, 173, \n",
        "           162, 174, 166, 168, 170, 169, 171, 164, 172, 167]\n",
        "```\n",
        "\n",
        "1. 平均身長、中央値、標準偏差を計算してください\n",
        "2. ヒストグラムを作成して、データの分布を可視化してください\n",
        "3. 平均値と中央値の線をヒストグラムに追加してください\n",
        "\n",
        "### 問題2: 相関分析\n",
        "\n",
        "以下のデータは、10人の生徒の数学と物理の成績です：\n",
        "\n",
        "```\n",
        "math_scores = [85, 90, 78, 92, 88, 75, 95, 82, 87, 91]\n",
        "physics_scores = [80, 88, 75, 90, 85, 70, 92, 78, 84, 89]\n",
        "```\n",
        "\n",
        "1. 数学と物理の成績の相関係数を計算してください\n",
        "2. 散布図を作成して、2つの科目の関係を可視化してください\n",
        "3. 回帰直線を追加して、回帰式を求めてください\n",
        "4. 相関の強さについて考察してください\n",
        "\n",
        "### 問題3: データの分布比較\n",
        "\n",
        "以下の2つのクラスのテスト結果を比較してください：\n",
        "\n",
        "```\n",
        "class_a = [75, 80, 85, 78, 82, 88, 76, 84, 79, 87, 81, 83, 86, 77, 89]\n",
        "class_b = [70, 85, 90, 72, 88, 92, 74, 86, 73, 91, 89, 87, 94, 75, 93]\n",
        "```\n",
        "\n",
        "1. 両クラスの基本統計量（平均、中央値、標準偏差）を比較してください\n",
        "2. 両クラスのヒストグラムを並べて表示してください\n",
        "3. どちらのクラスの成績が良いか、また分布の特徴について考察してください\n",
        "\n",
        "### 問題4: 自由課題\n",
        "\n",
        "身近なデータを考えて、以下の分析を行ってください：\n",
        "\n",
        "1. 興味のある2つの変数のデータを作成（例：勉強時間と成績、運動時間と体重、睡眠時間と集中力など）\n",
        "2. 散布図を作成して関係性を調べる\n",
        "3. 相関係数を計算して関係の強さを評価\n",
        "4. 結果について考察を書く\n",
        "\n",
        "**ヒント**: 現実的なデータを作るために、ランダムな要素も含めて考えてみましょう。\n"
      ]
    },
    {
      "cell_type": "markdown",
      "id": "answer_section",
      "metadata": {
        "id": "answer_section"
      },
      "source": [
        "## 解答欄\n",
        "\n",
        "以下のセルに解答を記入してください。\n"
      ]
    },
    {
      "cell_type": "markdown",
      "id": "answer1_title",
      "metadata": {
        "id": "answer1_title"
      },
      "source": [
        "### 問題1の解答：基本統計量の計算"
      ]
    },
    {
      "cell_type": "code",
      "execution_count": null,
      "id": "answer1_code",
      "metadata": {
        "id": "answer1_code"
      },
      "outputs": [],
      "source": [
        "# 問題1: 身長データの統計分析\n",
        "heights = [165, 170, 168, 172, 160, 175, 169, 171, 167, 173, \n",
        "           162, 174, 166, 168, 170, 169, 171, 164, 172, 167]\n",
        "\n",
        "# ここに解答を書いてください\n"
      ]
    },
    {
      "cell_type": "markdown",
      "id": "answer2_title",
      "metadata": {
        "id": "answer2_title"
      },
      "source": [
        "### 問題2の解答：相関分析"
      ]
    },
    {
      "cell_type": "code",
      "execution_count": null,
      "id": "answer2_code",
      "metadata": {
        "id": "answer2_code"
      },
      "outputs": [],
      "source": [
        "# 問題2: 数学と物理の成績の相関分析\n",
        "math_scores = [85, 90, 78, 92, 88, 75, 95, 82, 87, 91]\n",
        "physics_scores = [80, 88, 75, 90, 85, 70, 92, 78, 84, 89]\n",
        "\n",
        "# ここに解答を書いてください\n"
      ]
    },
    {
      "cell_type": "markdown",
      "id": "answer3_title",
      "metadata": {
        "id": "answer3_title"
      },
      "source": [
        "### 問題3の解答：データの分布比較"
      ]
    },
    {
      "cell_type": "code",
      "execution_count": null,
      "id": "answer3_code",
      "metadata": {
        "id": "answer3_code"
      },
      "outputs": [],
      "source": [
        "# 問題3: 2つのクラスのテスト結果比較\n",
        "class_a = [75, 80, 85, 78, 82, 88, 76, 84, 79, 87, 81, 83, 86, 77, 89]\n",
        "class_b = [70, 85, 90, 72, 88, 92, 74, 86, 73, 91, 89, 87, 94, 75, 93]\n",
        "\n",
        "# ここに解答を書いてください\n"
      ]
    },
    {
      "cell_type": "markdown",
      "id": "answer4_title",
      "metadata": {
        "id": "answer4_title"
      },
      "source": [
        "### 問題4の解答：自由課題"
      ]
    },
    {
      "cell_type": "code",
      "execution_count": null,
      "id": "answer4_code",
      "metadata": {
        "id": "answer4_code"
      },
      "outputs": [],
      "source": [
        "# 問題4: 自由課題\n",
        "# 自分で考えたデータで分析してみよう\n",
        "\n",
        "# ここに解答を書いてください\n"
      ]
    },
    {
      "cell_type": "markdown",
      "id": "advanced_topics",
      "metadata": {
        "id": "advanced_topics"
      },
      "source": [
        "## 発展的な内容：機械学習の入門\n",
        "\n",
        "時間に余裕がある人は、簡単な機械学習も試してみましょう。\n"
      ]
    },
    {
      "cell_type": "code",
      "execution_count": null,
      "id": "simple_prediction",
      "metadata": {
        "id": "simple_prediction"
      },
      "outputs": [],
      "source": [
        "# 線形回帰による予測\n",
        "# 学習時間から成績を予測するモデル\n",
        "\n",
        "# 訓練データ\n",
        "train_hours = [1, 2, 3, 4, 5, 6, 7, 8, 9, 10]\n",
        "train_scores = [30, 40, 50, 60, 70, 75, 80, 85, 90, 95]\n",
        "\n",
        "# 線形回帰の係数を計算\n",
        "n = length(train_hours)\n",
        "x_mean = mean(train_hours)\n",
        "y_mean = mean(train_scores)\n",
        "\n",
        "slope = sum((train_hours .- x_mean) .* (train_scores .- y_mean)) / sum((train_hours .- x_mean).^2)\n",
        "intercept = y_mean - slope * x_mean\n",
        "\n",
        "println(\"予測モデル：成績 = \", round(slope, digits=2), \" × 学習時間 + \", round(intercept, digits=2))\n",
        "\n",
        "# 予測関数\n",
        "predict_score(hours) = slope * hours + intercept\n",
        "\n",
        "# 新しいデータで予測\n",
        "test_hours = [3.5, 6.5, 8.5]\n",
        "println(\"\\n予測結果：\")\n",
        "for h in test_hours\n",
        "    predicted = predict_score(h)\n",
        "    println(\"学習時間 \", h, \" 時間 → 予測成績 \", round(predicted, digits=1), \" 点\")\n",
        "end\n",
        "\n",
        "# 可視化\n",
        "scatter(train_hours, train_scores, \n",
        "        title=\"学習時間と成績の予測モデル\", \n",
        "        xlabel=\"学習時間 (時間)\", ylabel=\"成績 (点)\",\n",
        "        color=:blue, markersize=8, label=\"訓練データ\")\n",
        "\n",
        "# 回帰直線\n",
        "x_line = 0:0.1:10\n",
        "y_line = predict_score.(x_line)\n",
        "plot!(x_line, y_line, color=:red, linewidth=3, label=\"予測モデル\")\n",
        "\n",
        "# 予測点\n",
        "scatter!(test_hours, predict_score.(test_hours), \n",
        "         color=:green, markersize=10, marker=:star, label=\"予測結果\")"
      ]
    },
    {
      "cell_type": "markdown",
      "id": "conclusion",
      "metadata": {
        "id": "conclusion"
      },
      "source": [
        "## まとめ\n",
        "\n",
        "今日は以下のことを学びました：\n",
        "\n",
        "### 統計の基本\n",
        "- 基本統計量（平均、中央値、標準偏差など）の計算\n",
        "- データの分布を表すヒストグラムの作成\n",
        "- 相関係数による変数間の関係性の定量化\n",
        "\n",
        "### データの可視化\n",
        "- 散布図による2変数の関係性の可視化\n",
        "- 回帰直線による傾向の把握\n",
        "- 複数のグラフを組み合わせた総合的な分析\n",
        "\n",
        "### 確率分布\n",
        "- 正規分布、一様分布、指数分布の特徴\n",
        "- 理論的分布と実際のデータの比較\n",
        "\n",
        "### 実践的な分析\n",
        "- 実際のデータを想定した分析手法\n",
        "- 時系列データの可視化\n",
        "- 複数の視点からのデータ理解\n",
        "\n",
        "### データサイエンスの重要性\n",
        "\n",
        "現代社会では、データに基づいた意思決定が重要になっています。今日学んだ技術は：\n",
        "\n",
        "- **学習効果の測定**：勉強方法の効果を数値で評価\n",
        "- **スポーツ分析**：選手のパフォーマンス向上\n",
        "- **ビジネス**：売上予測、顧客分析\n",
        "- **研究**：実験結果の統計的検証\n",
        "\n",
        "などの様々な分野で応用できます。\n",
        "\n",
        "### 次回予告\n",
        "\n",
        "Day 5では、確率とシミュレーションをJuliaで扱います。\n",
        "\n",
        "### 提出について\n",
        "\n",
        "このノートブックに解答を記入し、保存してからGoogle Classroomに提出してください。特に問題4の自由課題では、創意工夫を凝らした分析を期待しています！\n",
        "\n",
        "### 参考資料\n",
        "\n",
        "- Julia Statistics Documentation: https://docs.julialang.org/en/v1/stdlib/Statistics/\n",
        "- StatsBase.jl: https://github.com/JuliaStats/StatsBase.jl\n",
        "- Plots.jl: https://docs.juliaplots.org/latest/\n"
      ]
    },
    {
      "cell_type": "markdown",
      "id": "75165b8a",
      "metadata": {},
      "source": []
    }
  ],
  "metadata": {
    "colab": {
      "provenance": []
    },
    "kernelspec": {
      "display_name": "Julia 1.11.6",
      "language": "julia",
      "name": "julia-1.11"
    },
    "language_info": {
      "file_extension": ".jl",
      "mimetype": "application/julia",
      "name": "julia",
      "version": "1.11.6"
    }
  },
  "nbformat": 4,
  "nbformat_minor": 5
}

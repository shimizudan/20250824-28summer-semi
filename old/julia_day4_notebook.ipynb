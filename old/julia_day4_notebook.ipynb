{
  "cells": [
    {
      "cell_type": "markdown",
      "id": "header",
      "metadata": {
        "id": "header"
      },
      "source": [
        "# 高校数学とJulia言語 Day 4\n",
        "\n",
        "- 城北中学校・高等学校　中学3年・高校1年\n",
        "- 夏期講習会III 2025/8/24~2025/8/28\n",
        "- 担当：清水団\n",
        "\n",
        "## 本日のテーマ：微分・積分の数値計算と最適化問題\n",
        "\n",
        "今日は数学の花形である微分・積分をJuliaで計算し、現実の問題を解決する最適化技術を学びます！\n"
      ]
    },
    {
      "cell_type": "markdown",
      "id": "introduction",
      "metadata": {
        "id": "introduction"
      },
      "source": [
        "## 微分・積分と最適化の世界\n",
        "\n",
        "微分と積分は、変化を扱う数学の根本的な概念です。現代社会では、これらの概念が様々な分野で活用されています。\n",
        "\n",
        "### 微分の応用例\n",
        "- **物理学**：速度（位置の微分）、加速度（速度の微分）\n",
        "- **経済学**：限界費用、限界収益の計算\n",
        "- **工学**：制御システム、信号処理\n",
        "- **機械学習**：勾配降下法による学習\n",
        "\n",
        "### 積分の応用例\n",
        "- **物理学**：面積、体積、仕事、エネルギーの計算\n",
        "- **統計学**：確率密度関数の積分\n",
        "- **工学**：信号の平均値、電気回路の解析\n",
        "- **経済学**：累積的な効果の計算\n",
        "\n",
        "### 最適化問題の応用例\n",
        "- **経営**：利益最大化、コスト最小化\n",
        "- **工学**：設計の最適化、資源配分\n",
        "- **物流**：配送ルートの最適化\n",
        "- **AI**：機械学習モデルのパラメータ最適化\n"
      ]
    },
    {
      "cell_type": "markdown",
      "id": "package_setup",
      "metadata": {
        "id": "package_setup"
      },
      "source": [
        "## 必要なパッケージの準備\n",
        "\n",
        "数値計算と最適化に必要なパッケージをインストールして読み込みましょう。\n"
      ]
    },
    {
      "cell_type": "code",
      "execution_count": null,
      "id": "install_packages",
      "metadata": {
        "id": "install_packages"
      },
      "outputs": [],
      "source": [
        "# パッケージのインストール（初回のみ実行）\n",
        "import Pkg\n",
        "Pkg.add([\"Plots\", \"ForwardDiff\", \"Optim\", \"QuadGK\", \"SymbolicUtils\", \"Symbolics\"])"
      ]
    },
    {
      "cell_type": "code",
      "execution_count": null,
      "id": "load_packages",
      "metadata": {
        "id": "load_packages"
      },
      "outputs": [],
      "source": [
        "# パッケージの読み込み\n",
        "using Plots\n",
        "using ForwardDiff      # 自動微分\n",
        "using Optim            # 最適化\n",
        "using QuadGK           # 数値積分\n",
        "using Symbolics        # 記号計算\n",
        "using LinearAlgebra    # 線形代数\n",
        "\n",
        "println(\"パッケージの読み込み完了！\")"
      ]
    },
    {
      "cell_type": "markdown",
      "id": "symbolic_calculus",
      "metadata": {
        "id": "symbolic_calculus"
      },
      "source": [
        "## 記号計算で微分・積分を理解しよう\n",
        "\n",
        "まずは記号計算を使って、数式のまま微分・積分を計算してみましょう。\n"
      ]
    },
    {
      "cell_type": "code",
      "execution_count": null,
      "id": "symbolic_variables",
      "metadata": {
        "id": "symbolic_variables"
      },
      "outputs": [],
      "source": [
        "# 記号変数の定義\n",
        "@variables x t\n",
        "\n",
        "println(\"記号変数 x, t を定義しました\")"
      ]
    },
    {
      "cell_type": "code",
      "execution_count": null,
      "id": "symbolic_differentiation",
      "metadata": {
        "id": "symbolic_differentiation"
      },
      "outputs": [],
      "source": [
        "# 記号微分の例\n",
        "println(\"=== 記号微分の例 ===\")\n",
        "\n",
        "# 基本的な関数の微分\n",
        "f1 = x^2\n",
        "f2 = sin(x)\n",
        "f3 = exp(x)\n",
        "f4 = x^3 + 2*x^2 - 3*x + 1\n",
        "\n",
        "println(\"f(x) = x² の微分：\", Symbolics.derivative(f1, x))\n",
        "println(\"f(x) = sin(x) の微分：\", Symbolics.derivative(f2, x))\n",
        "println(\"f(x) = eˣ の微分：\", Symbolics.derivative(f3, x))\n",
        "println(\"f(x) = x³ + 2x² - 3x + 1 の微分：\", Symbolics.derivative(f4, x))"
      ]
    },
    {
      "cell_type": "code",
      "execution_count": null,
      "id": "chain_rule",
      "metadata": {
        "id": "chain_rule"
      },
      "outputs": [],
      "source": [
        "# 合成関数の微分（連鎖律）\n",
        "println(\"=== 合成関数の微分 ===\")\n",
        "\n",
        "f5 = sin(x^2)\n",
        "f6 = exp(sin(x))\n",
        "f7 = (x^2 + 1)^3\n",
        "\n",
        "println(\"f(x) = sin(x²) の微分：\", Symbolics.derivative(f5, x))\n",
        "println(\"f(x) = e^(sin(x)) の微分：\", Symbolics.derivative(f6, x))\n",
        "println(\"f(x) = (x² + 1)³ の微分：\", Symbolics.derivative(f7, x))"
      ]
    },
    {
      "cell_type": "markdown",
      "id": "numerical_differentiation",
      "metadata": {
        "id": "numerical_differentiation"
      },
      "source": [
        "## 数値微分で実際の値を計算しよう\n",
        "\n",
        "記号計算で公式を求めたら、次は具体的な値での微分を計算してみましょう。\n"
      ]
    },
    {
      "cell_type": "code",
      "execution_count": null,
      "id": "numerical_diff_basic",
      "metadata": {
        "id": "numerical_diff_basic"
      },
      "outputs": [],
      "source": [
        "# 数値微分の基本\n",
        "# ForwardDiffパッケージを使用\n",
        "\n",
        "# 関数を定義\n",
        "f(x) = x^3 + 2*x^2 - 3*x + 1\n",
        "g(x) = sin(x^2)\n",
        "h(x) = exp(x) * cos(x)\n",
        "\n",
        "# x = 2 での微分値を計算\n",
        "x_val = 2.0\n",
        "\n",
        "println(\"x = \", x_val, \" での微分値：\")\n",
        "println(\"f'(2) = \", ForwardDiff.derivative(f, x_val))\n",
        "println(\"g'(2) = \", ForwardDiff.derivative(g, x_val))\n",
        "println(\"h'(2) = \", ForwardDiff.derivative(h, x_val))\n",
        "\n",
        "# 手計算との比較\n",
        "println(\"\\n手計算での確認：\")\n",
        "println(\"f(x) = x³ + 2x² - 3x + 1\")\n",
        "println(\"f'(x) = 3x² + 4x - 3\")\n",
        "println(\"f'(2) = 3(4) + 4(2) - 3 = 12 + 8 - 3 = 17\")\n",
        "println(\"数値微分の結果と一致！\")"
      ]
    },
    {
      "cell_type": "code",
      "execution_count": null,
      "id": "derivative_visualization",
      "metadata": {
        "id": "derivative_visualization"
      },
      "outputs": [],
      "source": [
        "# 関数とその微分のグラフを描画\n",
        "x_range = -3:0.1:3\n",
        "y_values = f.(x_range)\n",
        "dy_values = ForwardDiff.derivative.(f, x_range)\n",
        "\n",
        "plot(x_range, y_values, linewidth=3, label=\"f(x) = x³ + 2x² - 3x + 1\", color=:blue)\n",
        "plot!(x_range, dy_values, linewidth=3, label=\"f'(x)\", color=:red)\n",
        "\n",
        "# 特定の点での接線を描画\n",
        "x_point = 1.0\n",
        "y_point = f(x_point)\n",
        "slope = ForwardDiff.derivative(f, x_point)\n",
        "\n",
        "# 接線の方程式: y - y₀ = m(x - x₀)\n",
        "tangent_x = x_point-1:0.1:x_point+1\n",
        "tangent_y = slope .* (tangent_x .- x_point) .+ y_point\n",
        "\n",
        "plot!(tangent_x, tangent_y, linewidth=2, label=\"x=1での接線\", color=:green, linestyle=:dash)\n",
        "scatter!([x_point], [y_point], markersize=8, color=:green, label=\"\")\n",
        "\n",
        "title!(\"関数とその微分\")\n",
        "xlabel!(\"x\")\n",
        "ylabel!(\"y\")\n",
        "grid!(true)"
      ]
    },
    {
      "cell_type": "markdown",
      "id": "second_derivative",
      "metadata": {
        "id": "second_derivative"
      },
      "source": [
        "## 2階微分で凹凸を調べよう\n",
        "\n",
        "2階微分は関数の凹凸（曲率）を教えてくれます。最大・最小値を見つけるのに重要です。\n"
      ]
    },
    {
      "cell_type": "code",
      "execution_count": null,
      "id": "second_derivative_calc",
      "metadata": {
        "id": "second_derivative_calc"
      },
      "outputs": [],
      "source": [
        "# 2階微分の計算\n",
        "f_quadratic(x) = x^4 - 4*x^3 + 6*x^2 - 4*x + 1\n",
        "\n",
        "# 1階微分と2階微分を定義\n",
        "f_prime(x) = ForwardDiff.derivative(f_quadratic, x)\n",
        "f_double_prime(x) = ForwardDiff.derivative(f_prime, x)\n",
        "\n",
        "# 特定の点での値を計算\n",
        "test_points = [0.5, 1.0, 1.5, 2.0, 2.5]\n",
        "\n",
        "println(\"点\\t f(x)\\t f'(x)\\t f''(x)\\t 凹凸\")\n",
        "println(\"=\"^50)\n",
        "\n",
        "for x in test_points\n",
        "    fx = f_quadratic(x)\n",
        "    fpx = f_prime(x)\n",
        "    fppx = f_double_prime(x)\n",
        "    \n",
        "    concavity = fppx > 0 ? \"凸（下凸）\" : \"凹（上凸）\"\n",
        "    \n",
        "    println(\"$(x)\\t $(round(fx, digits=2))\\t $(round(fpx, digits=2))\\t $(round(fppx, digits=2))\\t $(concavity)\")\n",
        "end"
      ]
    },
    {
      "cell_type": "code",
      "execution_count": null,
      "id": "curvature_visualization",
      "metadata": {
        "id": "curvature_visualization"
      },
      "outputs": [],
      "source": [
        "# 関数、1階微分、2階微分のグラフ\n",
        "x_range = 0:0.1:3\n",
        "y_values = f_quadratic.(x_range)\n",
        "dy_values = f_prime.(x_range)\n",
        "d2y_values = f_double_prime.(x_range)\n",
        "\n",
        "plot(x_range, y_values, linewidth=3, label=\"f(x)\", color=:blue)\n",
        "plot!(x_range, dy_values, linewidth=3, label=\"f'(x)\", color=:red)\n",
        "plot!(x_range, d2y_values, linewidth=3, label=\"f''(x)\", color=:green)\n",
        "\n",
        "# x軸を追加\n",
        "hline!([0], color=:black, linewidth=1, alpha=0.5, label=\"\")\n",
        "\n",
        "title!(\"関数とその1階・2階微分\")\n",
        "xlabel!(\"x\")\n",
        "ylabel!(\"y\")\n",
        "grid!(true)\n",
        "legend!()\n",
        "\n",
        "println(\"グラフの読み方：\")\n",
        "println(\"- f'(x) = 0 の点：関数の極値候補\")\n",
        "println(\"- f''(x) > 0 の範囲：関数が下凸（凸）\")\n",
        "println(\"- f''(x) < 0 の範囲：関数が上凸（凹）\")\n",
        "println(\"- f''(x) = 0 の点：変曲点候補\")"
      ]
    },
    {
      "cell_type": "markdown",
      "id": "numerical_integration",
      "metadata": {
        "id": "numerical_integration"
      },
      "source": [
        "## 数値積分で面積を計算しよう\n",
        "\n",
        "積分は「面積」を求める計算です。Julia の QuadGK パッケージを使って正確に計算できます。\n"
      ]
    },
    {
      "cell_type": "code",
      "execution_count": null,
      "id": "basic_integration",
      "metadata": {
        "id": "basic_integration"
      },
      "outputs": [],
      "source": [
        "# 基本的な数値積分\n",
        "using QuadGK\n",
        "\n",
        "# 積分する関数を定義\n",
        "f1(x) = x^2\n",
        "f2(x) = sin(x)\n",
        "f3(x) = exp(-x^2)  # ガウス関数\n",
        "f4(x) = 1/(1 + x^2)  # アークタンジェントの導関数\n",
        "\n",
        "println(\"=== 定積分の計算 ===\")\n",
        "\n",
        "# ∫₀¹ x² dx = 1/3\n",
        "result1, error1 = quadgk(f1, 0, 1)\n",
        "println(\"∫₀¹ x² dx = \", result1, \" (理論値: 1/3 ≈ \", 1/3, \")\")\n",
        "\n",
        "# ∫₀^π sin(x) dx = 2\n",
        "result2, error2 = quadgk(f2, 0, π)\n",
        "println(\"∫₀^π sin(x) dx = \", result2, \" (理論値: 2)\")\n",
        "\n",
        "# ∫₋∞^∞ e^(-x²) dx = √π\n",
        "result3, error3 = quadgk(f3, -Inf, Inf)\n",
        "println(\"∫₋∞^∞ e^(-x²) dx = \", result3, \" (理論値: √π ≈ \", sqrt(π), \")\")\n",
        "\n",
        "# ∫₋₁¹ 1/(1+x²) dx = π/2\n",
        "result4, error4 = quadgk(f4, -1, 1)\n",
        "println(\"∫₋₁¹ 1/(1+x²) dx = \", result4, \" (理論値: π/2 ≈ \", π/2, \")\")\n",
        "\n",
        "println(\"\\n計算誤差はすべて \", max(error1, error2, error3, error4), \" 以下です！\")"
      ]
    },
    {
      "cell_type": "code",
      "execution_count": null,
      "id": "integration_visualization",
      "metadata": {
        "id": "integration_visualization"
      },
      "outputs": [],
      "source": [
        "# 積分の幾何学的意味を可視化\n",
        "# sin(x) を 0 から π まで積分\n",
        "\n",
        "x_range = 0:0.01:π\n",
        "y_values = sin.(x_range)\n",
        "\n",
        "# 関数のグラフ\n",
        "plot(x_range, y_values, linewidth=3, label=\"y = sin(x)\", color=:blue)\n",
        "\n",
        "# 積分領域を塗りつぶし\n",
        "fill_x = 0:0.01:π\n",
        "fill_y = sin.(fill_x)\n",
        "plot!(fill_x, fill_y, fillrange=0, alpha=0.3, color=:lightblue, label=\"積分領域\")\n",
        "\n",
        "# 軸を追加\n",
        "hline!([0], color=:black, linewidth=1, alpha=0.7, label=\"\")\n",
        "vline!([0], color=:black, linewidth=1, alpha=0.7, label=\"\")\n",
        "\n",
        "title!(\"∫₀^π sin(x) dx = 2\")\n",
        "xlabel!(\"x\")\n",
        "ylabel!(\"y\")\n",
        "grid!(true)\n",
        "\n",
        "# 理論値と数値計算値を表示\n",
        "numerical_result, _ = quadgk(sin, 0, π)\n",
        "println(\"数値積分の結果: \", numerical_result)\n",
        "println(\"理論値: 2\")\n",
        "println(\"誤差: \", abs(numerical_result - 2))"
      ]
    },
    {
      "cell_type": "markdown",
      "id": "area_between_curves",
      "metadata": {
        "id": "area_between_curves"
      },
      "source": [
        "## 関数の間の面積を計算しよう\n",
        "\n",
        "2つの関数に囲まれた面積も積分で求められます。\n"
      ]
    },
    {
      "cell_type": "code",
      "execution_count": null,
      "id": "area_between_functions",
      "metadata": {
        "id": "area_between_functions"
      },
      "outputs": [],
      "source": [
        "# 2つの関数の間の面積\n",
        "f_upper(x) = x^2 + 1\n",
        "f_lower(x) = x^2 - 2*x + 1\n",
        "\n",
        "# 差関数を定義\n",
        "f_diff(x) = f_upper(x) - f_lower(x)\n",
        "\n",
        "# 交点を求める（数値的に）\n",
        "# f_upper(x) = f_lower(x) となる点\n",
        "# x^2 + 1 = x^2 - 2x + 1\n",
        "# 2x = 0\n",
        "# x = 0\n",
        "\n",
        "# 実際には区間 [-1, 1] で積分してみよう\n",
        "area, _ = quadgk(f_diff, -1, 1)\n",
        "\n",
        "println(\"2つの関数の間の面積: \", area)\n",
        "\n",
        "# 可視化\n",
        "x_range = -1.5:0.01:1.5\n",
        "y_upper = f_upper.(x_range)\n",
        "y_lower = f_lower.(x_range)\n",
        "\n",
        "plot(x_range, y_upper, linewidth=3, label=\"y = x² + 1\", color=:blue)\n",
        "plot!(x_range, y_lower, linewidth=3, label=\"y = x² - 2x + 1\", color=:red)\n",
        "\n",
        "# 積分区間でのみ塗りつぶし\n",
        "fill_x = -1:0.01:1\n",
        "fill_y_upper = f_upper.(fill_x)\n",
        "fill_y_lower = f_lower.(fill_x)\n",
        "\n",
        "plot!(fill_x, fill_y_upper, fillrange=fill_y_lower, alpha=0.3, color=:green, label=\"面積\")\n",
        "\n",
        "title!(\"2つの関数の間の面積\")\n",
        "xlabel!(\"x\")\n",
        "ylabel!(\"y\")\n",
        "grid!(true)\n",
        "legend!()\n",
        "\n",
        "# 手計算での確認\n",
        "println(\"\\n手計算での確認:\")\n",
        "println(\"f_diff(x) = (x² + 1) - (x² - 2x + 1) = 2x\")\n",
        "println(\"∫₋₁¹ 2x dx = [x²]₋₁¹ = 1² - (-1)² = 1 - 1 = 0\")\n",
        "println(\"しかし、|2x| の積分は...\")\n",
        "\n",
        "# 絶対値を考慮した積分\n",
        "area_abs, _ = quadgk(x -> abs(2*x), -1, 1)\n",
        "println(\"∫₋₁¹ |2x| dx = \", area_abs)"
      ]
    },
    {
      "cell_type": "markdown",
      "id": "optimization_basics",
      "metadata": {
        "id": "optimization_basics"
      },
      "source": [
        "## 最適化問題に挑戦しよう\n",
        "\n",
        "最適化とは「最も良い解」を見つける問題です。微分を使って最大値・最小値を見つけます。\n"
      ]
    },
    {
      "cell_type": "code",
      "execution_count": null,
      "id": "basic_optimization",
      "metadata": {
        "id": "basic_optimization"
      },
      "outputs": [],
      "source": [
        "# 基本的な最適化問題\n",
        "using Optim\n",
        "\n",
        "# 最小化する関数を定義\n",
        "objective_function(x) = x[1]^2 + 2*x[1]*x[2] + 3*x[2]^2 - 4*x[1] - 6*x[2] + 10\n",
        "\n",
        "# 初期値を設定\n",
        "initial_guess = [0.0, 0.0]\n",
        "\n",
        "# 最適化を実行\n",
        "result = optimize(objective_function, initial_guess, BFGS())\n",
        "\n",
        "println(\"最適化結果:\")\n",
        "println(\"最適解: \", Optim.minimizer(result))\n",
        "println(\"最小値: \", Optim.minimum(result))\n",
        "println(\"収束したか: \", Optim.converged(result))\n",
        "\n",
        "# 解析的な解と比較\n",
        "# ∂f/∂x₁ = 2x₁ + 2x₂ - 4 = 0\n",
        "# ∂f/∂x₂ = 2x₁ + 6x₂ - 6 = 0\n",
        "# 解: x₁ = 3, x₂ = -1/3\n",
        "\n",
        "x1_analytical = 3.0\n",
        "x2_analytical = -1.0/3.0\n",
        "\n",
        "println(\"\\n解析解との比較:\")\n",
        "println(\"解析解: [\", x1_analytical, \", \", x2_analytical, \"]\")\n",
        "println(\"最小値（解析）: \", objective_function([x1_analytical, x2_analytical]))"
      ]
    },
    {
      "cell_type": "code",
      "execution_count": null,
      "id": "optimization_visualization",
      "metadata": {
        "id": "optimization_visualization"
      },
      "outputs": [],
      "source": [
        "# 最適化過程の可視化（1変数の場合）\n",
        "simple_func(x) = (x - 2)^2 + 1\n",
        "\n",
        "# 最適化を実行\n",
        "result_1d = optimize(x -> simple_func(x[1]), [0.0], BFGS())\n",
        "optimal_x = Optim.minimizer(result_1d)[1]\n",
        "optimal_y = Optim.minimum(result_1d)\n",
        "\n",
        "# 可視化\n",
        "x_range = -1:0.1:5\n",
        "y_values = simple_func.(x_range)\n",
        "\n",
        "plot(x_range, y_values, linewidth=3, label=\"f(x) = (x-2)² + 1\", color=:blue)\n",
        "scatter!([optimal_x], [optimal_y], markersize=10, color=:red, label=\"最適解\")\n",
        "\n",
        "title!(\"1変数最適化の例\")\n",
        "xlabel!(\"x\")\n",
        "ylabel!(\"f(x)\")\n",
        "grid!(true)\n",
        "legend!()\n",
        "\n",
        "println(\"1変数最適化の結果:\")\n",
        "println(\"最適解 x = \", optimal_x)\n",
        "println(\"最小値 f(x) = \", optimal_y)\n",
        "println(\"理論値: x = 2, f(x) = 1\")"
      ]
    },
    {
      "cell_type": "markdown",
      "id": "real_world_optimization",
      "metadata": {
        "id": "real_world_optimization"
      },
      "source": [
        "## 実際の問題を解いてみよう\n",
        "\n",
        "最適化は現実の問題解決に威力を発揮します。いくつかの実例を見てみましょう。\n"
      ]
    },
    {
      "cell_type": "code",
      "execution_count": null,
      "id": "box_optimization",
      "metadata": {
        "id": "box_optimization"
      },
      "outputs": [],
      "source": [
        "# 問題1: 箱の体積最大化\n",
        "# 1辺の長さが20cmの正方形の紙から、4つの角に正方形を切り取って\n",
        "# 箱を作るとき、体積を最大化する切り取る長さを求める\n",
        "\n",
        "# 変数: x = 切り取る正方形の1辺の長さ\n",
        "# 体積 V = x * (20-2x) * (20-2x) = x * (20-2x)²\n",
        "# 制約: 0 < x < 10\n",
        "\n",
        "volume_function(x) = x * (20 - 2*x)^2\n",
        "\n",
        "# 最大化問題を最小化問題に変換（符号を反転）\n",
        "negative_volume(x) = -volume_function(x[1])\n",
        "\n",
        "# 制約付き最適化\n",
        "result_box = optimize(negative_volume, [0.1], [9.9], [5.0], Fminbox(BFGS()))\n",
        "\n",
        "optimal_cut = Optim.minimizer(result_box)[1]\n",
        "max_volume = -Optim.minimum(result_box)\n",
        "\n",
        "println(\"=== 箱の体積最大化問題 ===\")\n",
        "println(\"最適な切り取り長さ: \", round(optimal_cut, digits=3), \" cm\")\n",
        "println(\"最大体積: \", round(max_volume, digits=3), \" cm³\")\n",
        "\n",
        "# 可視化\n",
        "x_range = 0.1:0.1:9.9\n",
        "volumes = volume_function.(x_range)\n",
        "\n",
        "plot(x_range, volumes, linewidth=3, label=\"体積 V(x)\", color=:blue)\n",
        "scatter!([optimal_cut], [max_volume], markersize=10, color=:red, label=\"最適解\")\n",
        "\n",
        "title!(\"箱の体積最大化\")\n",
        "xlabel!(\"切り取る長さ (cm)\")\n",
        "ylabel!(\"体積 (cm³)\")\n",
        "grid!(true)\n",
        "legend!()\n",
        "\n",
        "# 解析解との比較\n",
        "# V'(x) = (20-2x)² + x·2(20-2x)·(-2) = (20-2x)² - 4x(20-2x) = (20-2x)[(20-2x) - 4x] = (20-2x)(20-6x)\n",
        "# V'(x) = 0 → x = 10 (境界) または x = 20/6 = 10/3\n",
        "analytical_x = 20/6\n",
        "analytical_volume = volume_function(analytical_x)\n",
        "\n",
        "println(\"\\n解析解との比較:\")\n",
        "println(\"解析解: x = \", round(analytical_x, digits=3), \" cm\")\n",
        "println(\"解析解での体積: \", round(analytical_volume, digits=3), \" cm³\")"
      ]
    },
    {
      "cell_type": "code",
      "execution_count": null,
      "id": "profit_optimization",
      "metadata": {
        "id": "profit_optimization"
      },
      "outputs": [],
      "source": [
        "# 問題2: 利益最大化問題\n",
        "# ある会社の利益関数が P(x) = -x² + 100x - 1000 (x: 生産量)\n",
        "# 利益を最大化する生産量を求める\n",
        "\n",
        "profit_function(x) = -x^2 + 100*x - 1000\n",
        "\n",
        "# 最大化問題を最小化問題に変換\n",
        "negative_profit(x) = -profit_function(x[1])\n",
        "\n",
        "# 最適化実行\n",
        "result_profit = optimize(negative_profit, [0.0], BFGS())\n",
        "\n",
        "optimal_production = Optim.minimizer(result_profit)[1]\n",
        "max_profit = -Optim.minimum(result_profit)\n",
        "\n",
        "println(\"=== 利益最大化問題 ===\")\n",
        "println(\"最適生産量: \", round(optimal_production, digits=2), \" 単位\")\n",
        "println(\"最大利益: \", round(max_profit, digits=2), \" 万円\")\n",
        "\n",
        "# 可視化\n",
        "x_range = 0:1:100\n",
        "profits = profit_function.(x_range)\n",
        "\n",
        "plot(x_range, profits, linewidth=3, label=\"利益 P(x)\", color=:green)\n",
        "scatter!([optimal_production], [max_profit], markersize=10, color=:red, label=\"最適解\")\n",
        "hline!([0], color=:black, linewidth=1, alpha=0.5, label=\"損益分岐点\")\n",
        "\n",
        "title!(\"利益最大化\")\n",
        "xlabel!(\"生産量\")\n",
        "ylabel!(\"利益 (万円)\")\n",
        "grid!(true)\n",
        "legend!()\n",
        "\n",
        "# 損益分岐点の計算\n",
        "# P(x) = 0 → -x² + 100x - 1000 = 0\n",
        "# x² - 100x + 1000 = 0\n",
        "# x = (100 ± √(10000 - 4000))/2 = (100 ± √6000)/2\n",
        "discriminant = 100^2 - 4*1000\n",
        "if discriminant >= 0\n",
        "    x1 = (100 - sqrt(discriminant))/2\n",
        "    x2 = (100 + sqrt(discriminant))/2\n",
        "    println(\"\\n損益分岐点:\")\n",
        "    println(\"x₁ = \", round(x1, digits=2), \" 単位\")\n",
        "    println(\"x₂ = \", round(x2, digits=2), \" 単位\")\n",
        "else\n",
        "    println(\"\\n損益分岐点なし（常に損失）\")\n",
        "end"
      ]
    },
    {
      "cell_type": "markdown",
      "id": "multivariable_optimization",
      "metadata": {
        "id": "multivariable_optimization"
      },
      "source": [
        "## 多変数最適化にチャレンジしよう\n",
        "\n",
        "現実の問題では複数の変数を同時に最適化する必要があります。\n"
      ]
    },
    {
      "cell_type": "code",
      "execution_count": null,
      "id": "rosenbrock_function",
      "metadata": {
        "id": "rosenbrock_function"
      },
      "outputs": [],
      "source": [
        "# 有名なRosenbrock関数の最適化\n",
        "# f(x,y) = (1-x)² + 100(y-x²)²\n",
        "# 最小値は (1,1) で 0\n",
        "\n",
        "rosenbrock(x) = (1 - x[1])^2 + 100*(x[2] - x[1]^2)^2\n",
        "\n",
        "# 異なる初期値で最適化を試す\n",
        "initial_points = [[-1.0, 1.0], [0.0, 0.0], [2.0, 2.0]]\n",
        "\n",
        "println(\"=== Rosenbrock関数の最適化 ===\")\n",
        "println(\"理論的最適解: (1, 1), 最小値: 0\")\n",
        "println(\"\")\n",
        "\n",
        "for (i, init) in enumerate(initial_points)\n",
        "    result = optimize(rosenbrock, init, BFGS())\n",
        "    \n",
        "    println(\"初期値 \", i, \": \", init)\n",
        "    println(\"  最適解: \", round.(Optim.minimizer(result), digits=6))\n",
        "    println(\"  最小値: \", round(Optim.minimum(result), digits=10))\n",
        "    println(\"  収束: \", Optim.converged(result))\n",
        "    println(\"\")\n",
        "end"
      ]
    },
    {
      "cell_type": "code",
      "execution_count": null,
      "id": "constraint_optimization",
      "metadata": {
        "id": "constraint_optimization"
      },
      "outputs": [],
      "source": [
        "# 制約付き最適化問題\n",
        "# 目的関数: f(x,y) = x² + y² (原点からの距離の二乗を最小化)\n",
        "# 制約条件: g(x,y) = x + y - 1 = 0 (直線 x + y = 1 上の点)\n",
        "\n",
        "# ラグランジュ乗数法を用いた解析解\n",
        "# L(x,y,λ) = x² + y² - λ(x + y - 1)\n",
        "# ∂L/∂x = 2x - λ = 0 → x = λ/2\n",
        "# ∂L/∂y = 2y - λ = 0 → y = λ/2\n",
        "# ∂L/∂λ = -(x + y - 1) = 0 → x + y = 1\n",
        "# 解: x = y = 1/2, λ = 1\n",
        "\n",
        "println(\"=== 制約付き最適化問題 ===\")\n",
        "println(\"目的関数: f(x,y) = x² + y²\")\n",
        "println(\"制約条件: x + y = 1\")\n",
        "println(\"\")\n",
        "\n",
        "# 制約を満たす点での目的関数値を計算\n",
        "# x + y = 1 → y = 1 - x\n",
        "# f(x, 1-x) = x² + (1-x)² = x² + 1 - 2x + x² = 2x² - 2x + 1\n",
        "\n",
        "constrained_objective(x) = 2*x[1]^2 - 2*x[1] + 1\n",
        "\n",
        "result_constrained = optimize(constrained_objective, [0.0], BFGS())\n",
        "\n",
        "optimal_x = Optim.minimizer(result_constrained)[1]\n",
        "optimal_y = 1 - optimal_x\n",
        "min_value = Optim.minimum(result_constrained)\n",
        "\n",
        "println(\"数値解:\")\n",
        "println(\"  x = \", round(optimal_x, digits=6))\n",
        "println(\"  y = \", round(optimal_y, digits=6))\n",
        "println(\"  f(x,y) = \", round(min_value, digits=6))\n",
        "println(\"\")\n",
        "println(\"解析解:\")\n",
        "println(\"  x = 0.5, y = 0.5, f(x,y) = 0.5\")\n",
        "\n",
        "# 可視化\n",
        "x_range = -1:0.1:2\n",
        "y_range = -1:0.1:2\n",
        "\n",
        "# 等高線プロット\n",
        "z = [i^2 + j^2 for i in x_range, j in y_range]\n",
        "contour(x_range, y_range, z, levels=20, color=:viridis, alpha=0.7)\n",
        "\n",
        "# 制約直線\n",
        "constraint_x = -1:0.1:2\n",
        "constraint_y = 1 .- constraint_x\n",
        "plot!(constraint_x, constraint_y, linewidth=3, color=:red, label=\"制約: x + y = 1\")\n",
        "\n",
        "# 最適点\n",
        "scatter!([optimal_x], [optimal_y], markersize=10, color=:yellow, label=\"最適解\")\n",
        "\n",
        "title!(\"制約付き最適化\")\n",
        "xlabel!(\"x\")\n",
        "ylabel!(\"y\")\n",
        "legend!()"
      ]
    },
    {
      "cell_type": "markdown",
      "id": "machine_learning_connection",
      "metadata": {
        "id": "machine_learning_connection"
      },
      "source": [
        "## 機械学習との繋がり：最小二乗法\n",
        "\n",
        "機械学習でも最適化が重要な役割を果たします。線形回帰の最小二乗法を実装してみましょう。\n"
      ]
    },
    {
      "cell_type": "code",
      "execution_count": null,
      "id": "least_squares",
      "metadata": {
        "id": "least_squares"
      },
      "outputs": [],
      "source": [
        "# 最小二乗法による線形回帰\n",
        "# データ: (x₁, y₁), (x₂, y₂), ..., (xₙ, yₙ)\n",
        "# モデル: y = ax + b\n",
        "# 目的関数: Σ(yᵢ - axᵢ - b)² を最小化\n",
        "\n",
        "# サンプルデータを生成\n",
        "using Random\n",
        "Random.seed!(42)\n",
        "\n",
        "n = 20\n",
        "x_data = sort(rand(n) * 10)  # 0から10の間のランダムな点\n",
        "true_a, true_b = 2.5, 1.0   # 真の係数\n",
        "noise = randn(n) * 0.5       # ノイズ\n",
        "y_data = true_a * x_data .+ true_b .+ noise\n",
        "\n",
        "println(\"=== 線形回帰：最小二乗法 ===\")\n",
        "println(\"真の係数: a = \", true_a, \", b = \", true_b)\n",
        "println(\"\")\n",
        "\n",
        "# 目的関数を定義（残差の二乗和）\n",
        "function sum_of_squares(params)\n",
        "    a, b = params\n",
        "    return sum((y_data .- a * x_data .- b).^2)\n",
        "end\n",
        "\n",
        "# 最適化実行\n",
        "result_regression = optimize(sum_of_squares, [0.0, 0.0], BFGS())\n",
        "\n",
        "estimated_a, estimated_b = Optim.minimizer(result_regression)\n",
        "min_error = Optim.minimum(result_regression)\n",
        "\n",
        "println(\"最適化による推定:\")\n",
        "println(\"  a = \", round(estimated_a, digits=4))\n",
        "println(\"  b = \", round(estimated_b, digits=4))\n",
        "println(\"  残差二乗和 = \", round(min_error, digits=4))\n",
        "\n",
        "# 解析解との比較\n",
        "# 解析解: a = (Σxy - nΣxΣy)/(Σx² - n(Σx)²), b = (Σy - aΣx)/n\n",
        "sum_x = sum(x_data)\n",
        "sum_y = sum(y_data)\n",
        "sum_xy = sum(x_data .* y_data)\n",
        "sum_x2 = sum(x_data.^2)\n",
        "\n",
        "analytical_a = (sum_xy - n*sum_x*sum_y/n) / (sum_x2 - n*(sum_x/n)^2)\n",
        "analytical_b = (sum_y - analytical_a*sum_x) / n\n",
        "\n",
        "println(\"\\n解析解:\")\n",
        "println(\"  a = \", round(analytical_a, digits=4))\n",
        "println(\"  b = \", round(analytical_b, digits=4))\n",
        "\n",
        "# 可視化\n",
        "scatter(x_data, y_data, markersize=6, alpha=0.7, label=\"データ点\", color=:blue)\n",
        "\n",
        "# 真の直線\n",
        "x_line = 0:0.1:10\n",
        "y_true = true_a * x_line .+ true_b\n",
        "plot!(x_line, y_true, linewidth=3, label=\"真の直線\", color=:green)\n",
        "\n",
        "# 推定直線\n",
        "y_estimated = estimated_a * x_line .+ estimated_b\n",
        "plot!(x_line, y_estimated, linewidth=3, label=\"推定直線\", color=:red, linestyle=:dash)\n",
        "\n",
        "title!(\"線形回帰：最小二乗法\")\n",
        "xlabel!(\"x\")\n",
        "ylabel!(\"y\")\n",
        "legend!()\n",
        "grid!(true)"
      ]
    },
    {
      "cell_type": "markdown",
      "id": "exercises",
      "metadata": {
        "id": "exercises"
      },
      "source": [
        "## Day 4 の演習問題\n",
        "\n",
        "今日学んだ微分・積分・最適化の技術を使って、以下の問題に取り組んでみましょう。\n",
        "\n",
        "### 問題1: 微分の計算と可視化\n",
        "\n",
        "関数 $f(x) = x^3 - 6x^2 + 9x + 1$ について：\n",
        "\n",
        "1. 1階微分 $f'(x)$ と2階微分 $f''(x)$ を数値的に計算してください\n",
        "2. $f(x)$, $f'(x)$, $f''(x)$ を同じグラフに描画してください（範囲: $x \\in [-1, 5]$）\n",
        "3. 極値（極大値・極小値）と変曲点を見つけてください\n",
        "4. 関数の増減表を作成してください\n",
        "\n",
        "### 問題2: 積分の計算\n",
        "\n",
        "以下の定積分を数値的に計算してください：\n",
        "\n",
        "1. $\\int_0^2 (x^2 + 1) dx$\n",
        "2. $\\int_0^{\\pi/2} \\sin(x) \\cos(x) dx$\n",
        "3. $\\int_1^e \\frac{1}{x} dx$\n",
        "\n",
        "また、それぞれの理論値と比較してください。\n",
        "\n",
        "### 問題3: 最適化問題\n",
        "\n",
        "以下の実用的な最適化問題を解いてください：\n",
        "\n",
        "**缶の表面積最小化問題**\n",
        "\n",
        "体積が500cm³の円筒形の缶を作るとき、表面積を最小にする半径と高さを求めてください。\n",
        "\n",
        "- 体積の制約: $V = \\pi r^2 h = 500$\n",
        "- 表面積: $S = 2\\pi r^2 + 2\\pi r h$\n",
        "- 制約を使って $h = \\frac{500}{\\pi r^2}$ と表現し、$S(r)$ を最小化してください\n",
        "\n",
        "### 問題4: 2変数最適化\n",
        "\n",
        "関数 $f(x,y) = x^2 + y^2 - 2x - 4y + 5$ の最小値とその位置を求めてください。\n",
        "\n",
        "1. 数値最適化で解を求める\n",
        "2. 解析的に偏微分を計算して理論解を求める\n",
        "3. 等高線プロットで可視化する\n",
        "\n",
        "### 問題5: 自由課題\n",
        "\n",
        "身近な問題を最適化問題として定式化し、解いてみてください。例：\n",
        "\n",
        "- 通学時間の最小化\n",
        "- 小遣いの使い方の最適化\n",
        "- 勉強時間の配分最適化\n",
        "\n",
        "問題設定、数式化、解法、結果の解釈まで含めて取り組んでください。\n"
      ]
    },
    {
      "cell_type": "markdown",
      "id": "answer_section",
      "metadata": {
        "id": "answer_section"
      },
      "source": [
        "## 解答欄\n",
        "\n",
        "以下のセルに解答を記入してください。\n"
      ]
    },
    {
      "cell_type": "markdown",
      "id": "answer1_title",
      "metadata": {
        "id": "answer1_title"
      },
      "source": [
        "### 問題1の解答：微分の計算と可視化"
      ]
    },
    {
      "cell_type": "code",
      "execution_count": null,
      "id": "answer1_code",
      "metadata": {
        "id": "answer1_code"
      },
      "outputs": [],
      "source": [
        "# 問題1: f(x) = x³ - 6x² + 9x + 1 の微分解析\n",
        "# ここに解答を書いてください\n"
      ]
    },
    {
      "cell_type": "markdown",
      "id": "answer2_title",
      "metadata": {
        "id": "answer2_title"
      },
      "source": [
        "### 問題2の解答：積分の計算"
      ]
    },
    {
      "cell_type": "code",
      "execution_count": null,
      "id": "answer2_code",
      "metadata": {
        "id": "answer2_code"
      },
      "outputs": [],
      "source": [
        "# 問題2: 定積分の数値計算\n",
        "# ここに解答を書いてください\n"
      ]
    },
    {
      "cell_type": "markdown",
      "id": "answer3_title",
      "metadata": {
        "id": "answer3_title"
      },
      "source": [
        "### 問題3の解答：缶の表面積最小化"
      ]
    },
    {
      "cell_type": "code",
      "execution_count": null,
      "id": "answer3_code",
      "metadata": {
        "id": "answer3_code"
      },
      "outputs": [],
      "source": [
        "# 問題3: 缶の表面積最小化問題\n",
        "# ここに解答を書いてください\n"
      ]
    },
    {
      "cell_type": "markdown",
      "id": "answer4_title",
      "metadata": {
        "id": "answer4_title"
      },
      "source": [
        "### 問題4の解答：2変数最適化"
      ]
    },
    {
      "cell_type": "code",
      "execution_count": null,
      "id": "answer4_code",
      "metadata": {
        "id": "answer4_code"
      },
      "outputs": [],
      "source": [
        "# 問題4: 2変数最適化問題\n",
        "# ここに解答を書いてください\n"
      ]
    },
    {
      "cell_type": "markdown",
      "id": "answer5_title",
      "metadata": {
        "id": "answer5_title"
      },
      "source": [
        "### 問題5の解答：自由課題"
      ]
    },
    {
      "cell_type": "code",
      "execution_count": null,
      "id": "answer5_code",
      "metadata": {
        "id": "answer5_code"
      },
      "outputs": [],
      "source": [
        "# 問題5: 自由課題\n",
        "# ここに解答を書いてください\n"
      ]
    },
    {
      "cell_type": "markdown",
      "id": "advanced_topics",
      "metadata": {
        "id": "advanced_topics"
      },
      "source": [
        "## 発展的な内容：勾配降下法\n",
        "\n",
        "機械学習で重要な勾配降下法を実装してみましょう。\n"
      ]
    },
    {
      "cell_type": "code",
      "execution_count": null,
      "id": "gradient_descent",
      "metadata": {
        "id": "gradient_descent"
      },
      "outputs": [],
      "source": [
        "# 勾配降下法の実装\n",
        "function gradient_descent(f, x0, learning_rate=0.01, max_iter=1000, tol=1e-6)\n",
        "    x = copy(x0)\n",
        "    history = [copy(x)]\n",
        "    \n",
        "    for i in 1:max_iter\n",
        "        # 勾配を計算\n",
        "        grad = ForwardDiff.gradient(f, x)\n",
        "        \n",
        "        # パラメータを更新\n",
        "        x_new = x - learning_rate * grad\n",
        "        \n",
        "        # 収束判定\n",
        "        if norm(x_new - x) < tol\n",
        "            println(\"収束しました（反復回数: \", i, \")\")\n",
        "            break\n",
        "        end\n",
        "        \n",
        "        x = x_new\n",
        "        push!(history, copy(x))\n",
        "    end\n",
        "    \n",
        "    return x, history\n",
        "end\n",
        "\n",
        "# テスト関数\n",
        "test_function(x) = (x[1] - 2)^2 + (x[2] - 1)^2\n",
        "\n",
        "# 勾配降下法を実行\n",
        "initial_point = [0.0, 0.0]\n",
        "optimal_point, history = gradient_descent(test_function, initial_point, 0.1)\n",
        "\n",
        "println(\"=== 勾配降下法の結果 ===\")\n",
        "println(\"初期点: \", initial_point)\n",
        "println(\"最適解: \", round.(optimal_point, digits=6))\n",
        "println(\"最小値: \", round(test_function(optimal_point), digits=6))\n",
        "println(\"理論解: [2, 1], 最小値: 0\")\n",
        "\n",
        "# 最適化過程の可視化\n",
        "x_range = -1:0.1:3\n",
        "y_range = -1:0.1:2.5\n",
        "z = [test_function([i, j]) for i in x_range, j in y_range]\n",
        "\n",
        "contour(x_range, y_range, z, levels=15, color=:viridis, alpha=0.7)\n",
        "\n",
        "# 勾配降下法の経路を描画\n",
        "path_x = [point[1] for point in history]\n",
        "path_y = [point[2] for point in history]\n",
        "plot!(path_x, path_y, linewidth=3, color=:red, marker=:circle, markersize=4, label=\"勾配降下法の経路\")\n",
        "\n",
        "# 開始点と終了点を強調\n",
        "scatter!([initial_point[1]], [initial_point[2]], markersize=10, color=:blue, label=\"開始点\")\n",
        "scatter!([optimal_point[1]], [optimal_point[2]], markersize=10, color=:red, label=\"最適解\")\n",
        "\n",
        "title!(\"勾配降下法による最適化\")\n",
        "xlabel!(\"x₁\")\n",
        "ylabel!(\"x₂\")\n",
        "legend!()"
      ]
    },
    {
      "cell_type": "markdown",
      "id": "conclusion",
      "metadata": {
        "id": "conclusion"
      },
      "source": [
        "## まとめ\n",
        "\n",
        "今日は微分・積分・最適化という数学の重要な概念をJuliaで実装し、様々な問題に応用しました。\n",
        "\n",
        "### 学習した内容\n",
        "\n",
        "#### 微分\n",
        "- 記号微分による公式の導出\n",
        "- 数値微分による具体的な値の計算\n",
        "- 1階微分（傾き）と2階微分（曲率）の意味\n",
        "- 接線の方程式と関数の増減・凹凸の判定\n",
        "\n",
        "#### 積分\n",
        "- 数値積分による面積の計算\n",
        "- 定積分の幾何学的意味\n",
        "- 2つの関数の間の面積計算\n",
        "- 理論値と数値計算の比較\n",
        "\n",
        "#### 最適化\n",
        "- 1変数・多変数最適化問題の解法\n",
        "- 制約付き最適化問題\n",
        "- 実用的な問題（箱の体積最大化、利益最大化）\n",
        "- 機械学習との関連（最小二乗法）\n",
        "\n",
        "### 現代社会での応用\n",
        "\n",
        "今日学んだ技術は、以下のような分野で実際に使われています：\n",
        "\n",
        "- **AI・機械学習**：ニューラルネットワークの学習\n",
        "- **工学**：構造物の最適設計\n",
        "- **経済学**：資源配分の最適化\n",
        "- **物理学**：エネルギー最小化原理\n",
        "- **生物学**：進化のモデル化\n",
        "- **金融**：リスク最小化ポートフォリオ\n",
        "\n",
        "### 数学的思考の重要性\n",
        "\n",
        "微分・積分・最適化を通じて学んだのは、単なる計算技術ではありません：\n",
        "\n",
        "1. **変化を数量化する思考**：微分による変化率の理解\n",
        "2. **全体を把握する視点**：積分による累積効果の理解\n",
        "3. **最適解を求める姿勢**：制約の中でのベストな選択\n",
        "4. **数値と理論の融合**：コンピュータと数学の協調\n",
        "\n",
        "### 次回予告\n",
        "\n",
        "Day 5では、これまでの学習を統合し、実際のプロジェクトに挑戦します。データ分析から最適化まで、総合的な問題解決能力を身につけましょう！\n",
        "\n",
        "### 提出について\n",
        "\n",
        "このノートブックに解答を記入し、保存してからGoogle Classroomに提出してください。特に問題5の自由課題では、創造性と数学的思考力を発揮してください！\n",
        "\n",
        "### 参考資料\n",
        "\n",
        "- Julia Calculus Documentation: https://docs.julialang.org/\n",
        "- ForwardDiff.jl: https://github.com/JuliaDiff/ForwardDiff.jl\n",
        "- Optim.jl: https://github.com/JuliaOpt/Optim.jl\n",
        "- QuadGK.jl: https://github.com/JuliaMath/QuadGK.jl\n",
        "- Symbolics.jl: https://github.com/JuliaSymbolics/Symbolics.jl\n",
        "\n",
        "### 今後の学習へのアドバイス\n",
        "\n",
        "微分・積分・最適化は数学の基礎であり、様々な分野への扉です。今日の学習を基に：\n",
        "\n",
        "- 物理学での運動方程式\n",
        "- 経済学での限界分析\n",
        "- 統計学での最尤推定\n",
        "- 機械学習でのバックプロパゲーション\n",
        "\n",
        "などの発展的な内容にも挑戦してみてください。Julia言語は、これらすべての分野で強力なツールとなるでしょう。\n",
        "\n",
        "数学とプログラミングの融合により、理論と実践の両方を理解できる力を身につけることができました。この経験を生かし、将来の学習や研究、そして社会での問題解決に活用してください！\n"
      ]
    }
  ],
  "metadata": {
    "kernelspec": {
      "display_name": "Julia",
      "name": "julia"
    },
    "language_info": {
      "name": "julia"
    },
    "colab": {
      "provenance": []
    }
  },
  "nbformat": 4,
  "nbformat_minor": 5
}
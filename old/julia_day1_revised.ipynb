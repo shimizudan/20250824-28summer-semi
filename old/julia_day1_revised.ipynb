{
  "cells": [
    {
      "cell_type": "markdown",
      "id": "cb656753",
      "metadata": {
        "id": "cb656753"
      },
      "source": [
        "# 高校数学とJulia言語 Day 1\n",
        "\n",
        "- 城北中学校・高等学校　中学3年・高校1年\n",
        "- 夏期講習会III 2025/8/24~2025/8/28\n",
        "- 担当：清水団\n",
        "\n",
        "## 本日のテーマ：Julia言語で計算してみよう！\n"
      ]
    },
    {
      "cell_type": "markdown",
      "id": "e0514a00",
      "metadata": {
        "id": "e0514a00"
      },
      "source": [
        "## Julia言語とは\n",
        "\n",
        "Juliaは統計処理や科学技術計算、機械学習に強いプログラミング言語です。特に数学的な計算が得意で、数式をそのままコードに書けるのが魅力です。\n",
        "\n",
        "### Julia言語の特徴\n",
        "- **数学的記法が使える**：`2x` のように数学と同じ書き方ができる\n",
        "- **高速計算**：複雑な計算も瞬時に実行\n",
        "- **豊富な数学関数**：平方根、三角関数、対数など標準装備\n",
        "- **美しいグラフ**：関数のグラフを簡単に描画可能\n",
        "\n",
        "公式サイト：https://julialang.org/\n"
      ]
    },
    {
      "cell_type": "markdown",
      "id": "e1f0a222",
      "metadata": {
        "id": "e1f0a222"
      },
      "source": [
        "## Google ColabでJulia言語を使ってみよう！\n",
        "\n",
        "2025年3月6日にGoogle Colab上でJulia言語が使えるようになりました。\n",
        "今回の夏期講習会ではこのGoogle Colab上でJulia言語を使ってみます。\n",
        "\n",
        "### 📌 設定方法\n",
        "**メニュー → ランタイム → ランタイムのタイプを変更 → Julia を選択**\n",
        "\n",
        "参考記事：https://zenn.dev/dannchu/articles/296dce4bf7c701\n"
      ]
    },
    {
      "cell_type": "markdown",
      "id": "colab_guide",
      "metadata": {
        "id": "colab_guide"
      },
      "source": [
        "## 📝 Google Colab の基本的な使い方\n",
        "\n",
        "Google Colab（Colaboratory）は、クラウド上で動くJupyterノートブック環境です。PythonやJuliaなどのプログラミング言語を、インストールなしでブラウザ上で実行できます。\n",
        "\n",
        "### 🔸 セルの種類\n",
        "\n",
        "| セルの種類 | 用途 | 入力内容 |\n",
        "|-----------|------|----------|\n",
        "| **コードセル** | プログラムを書く | Julia, Python などのコード |\n",
        "| **テキストセル** | 解説や見出しを書く | Markdown 記法を使った文章や数式 |\n",
        "\n",
        "✅ **セルの追加方法**：上部メニュー → `+ コード` または `+ テキスト`\n",
        "\n",
        "### 🔸 コードセルの使い方\n",
        "\n",
        "```julia\n",
        "println(\"Hello, world!\")\n",
        "```\n",
        "\n",
        "▶️ ボタンをクリックするか `Shift + Enter` で実行できます。\n",
        "\n",
        "### 🔸 便利なショートカット\n",
        "\n",
        "| 操作 | 方法 |\n",
        "|------|------|\n",
        "| セルを実行 | `Shift + Enter` または ▶️ ボタン |\n",
        "| 新しいセルを追加 | 上部の `+ コード` または `+ テキスト` |\n",
        "| セルを削除 | セル左のメニューからゴミ箱アイコン |\n",
        "| ノートブックを保存 | 自動保存（Googleドライブ）|\n",
        "\n",
        "### 🔸 数式の書き方（LaTeX）\n",
        "\n",
        "テキストセルでは数式を美しく表示できます：\n",
        "\n",
        "```\n",
        "インライン数式：$x^2 + y^2 = r^2$\n",
        "\n",
        "ブロック数式：\n",
        "$$\n",
        "\\int_0^1 x^2 dx = \\frac{1}{3}\n",
        "$$\n",
        "```\n",
        "\n",
        "実際の表示：\n",
        "\n",
        "インライン数式：$x^2 + y^2 = r^2$\n",
        "\n",
        "ブロック数式：\n",
        "$$\n",
        "\\int_0^1 x^2 dx = \\frac{1}{3}\n",
        "$$\n"
      ]
    },
    {
      "cell_type": "markdown",
      "id": "4098335e",
      "metadata": {
        "id": "4098335e"
      },
      "source": [
        "## Julia言語で基本計算をしてみよう！\n",
        "\n",
        "まずは四則演算から始めましょう。電卓として使ってみます。\n"
      ]
    },
    {
      "cell_type": "code",
      "execution_count": 1,
      "id": "3abfc6a4",
      "metadata": {
        "id": "3abfc6a4"
      },
      "outputs": [
        {
          "data": {
            "text/plain": [
              "579"
            ]
          },
          "metadata": {},
          "output_type": "display_data"
        }
      ],
      "source": [
        "# 基本的な足し算\n",
        "123 + 456"
      ]
    },
    {
      "cell_type": "code",
      "execution_count": 2,
      "id": "basic_operations",
      "metadata": {
        "id": "basic_operations"
      },
      "outputs": [
        {
          "name": "stdout",
          "output_type": "stream",
          "text": [
            "足し算: 22\n",
            "引き算: 8\n",
            "掛け算: 105\n",
            "割り算: 2.142857142857143\n",
            "割り算の余り: 1\n",
            "整数の割り算: 2\n"
          ]
        }
      ],
      "source": [
        "# 様々な演算\n",
        "println(\"足し算: \", 15 + 7)\n",
        "println(\"引き算: \", 15 - 7)\n",
        "println(\"掛け算: \", 15 * 7)\n",
        "println(\"割り算: \", 15 / 7)\n",
        "println(\"割り算の余り: \", 15 % 7)\n",
        "println(\"整数の割り算: \", 15 ÷ 7)  # \\ div + Tab で ÷ が入力できます"
      ]
    },
    {
      "cell_type": "markdown",
      "id": "math_functions",
      "metadata": {
        "id": "math_functions"
      },
      "source": [
        "## 数学でよく使う関数を試してみよう"
      ]
    },
    {
      "cell_type": "code",
      "execution_count": 3,
      "id": "e0034522",
      "metadata": {
        "id": "e0034522"
      },
      "outputs": [
        {
          "data": {
            "text/plain": [
              "1.4142135623730951"
            ]
          },
          "metadata": {},
          "output_type": "display_data"
        }
      ],
      "source": [
        "# 平方根（ルート）\n",
        "sqrt(2)"
      ]
    },
    {
      "cell_type": "code",
      "execution_count": 4,
      "id": "e4c19235",
      "metadata": {
        "id": "e4c19235"
      },
      "outputs": [
        {
          "data": {
            "text/plain": [
              "π = 3.1415926535897..."
            ]
          },
          "metadata": {},
          "output_type": "display_data"
        }
      ],
      "source": [
        "# 円周率π（パイ）\n",
        "# \\pi + Tab で π が入力できます\n",
        "π"
      ]
    },
    {
      "cell_type": "code",
      "execution_count": 5,
      "id": "math_constants",
      "metadata": {
        "id": "math_constants"
      },
      "outputs": [
        {
          "name": "stdout",
          "output_type": "stream",
          "text": [
            "円周率 π = π\n",
            "自然対数の底 e = ℯ\n",
            "黄金比 φ = 1.618033988749895\n"
          ]
        }
      ],
      "source": [
        "# 数学定数の例\n",
        "println(\"円周率 π = \", π)\n",
        "println(\"自然対数の底 e = \", ℯ)  # \\euler + Tab\n",
        "println(\"黄金比 φ = \", (1 + sqrt(5))/2)"
      ]
    },
    {
      "cell_type": "code",
      "execution_count": 6,
      "id": "a13ff7dd",
      "metadata": {
        "id": "a13ff7dd"
      },
      "outputs": [
        {
          "data": {
            "text/plain": [
              "(6.283185307179586, 3.4641016151377544)"
            ]
          },
          "metadata": {},
          "output_type": "display_data"
        }
      ],
      "source": [
        "# 数学的な記法が使える！\n",
        "# 2πは 2*π と同じ意味\n",
        "2π, 2sqrt(3)"
      ]
    },
    {
      "cell_type": "code",
      "execution_count": 7,
      "id": "more_math_functions",
      "metadata": {
        "id": "more_math_functions"
      },
      "outputs": [
        {
          "name": "stdout",
          "output_type": "stream",
          "text": [
            "絶対値 |−5| = 5\n",
            "sin(π/6) = 0.49999999999999994\n",
            "cos(π/3) = 0.5000000000000001\n",
            "log₂(8) = 3.0\n",
            "ln(e) = 1\n"
          ]
        }
      ],
      "source": [
        "# その他の数学関数\n",
        "println(\"絶対値 |−5| = \", abs(-5))\n",
        "println(\"sin(π/6) = \", sin(π/6))\n",
        "println(\"cos(π/3) = \", cos(π/3))\n",
        "println(\"log₂(8) = \", log(2, 8))\n",
        "println(\"ln(e) = \", log(ℯ))"
      ]
    },
    {
      "cell_type": "markdown",
      "id": "calculation_examples",
      "metadata": {
        "id": "calculation_examples"
      },
      "source": [
        "## 計算の順序と括弧"
      ]
    },
    {
      "cell_type": "code",
      "execution_count": 8,
      "id": "a7883009",
      "metadata": {
        "id": "a7883009"
      },
      "outputs": [
        {
          "data": {
            "text/plain": [
              "2.5833333333333335"
            ]
          },
          "metadata": {},
          "output_type": "display_data"
        }
      ],
      "source": [
        "# 小数での計算\n",
        "1/3 + 3 * (1 - 1/4)"
      ]
    },
    {
      "cell_type": "code",
      "execution_count": 9,
      "id": "1fcb7cdf",
      "metadata": {
        "id": "1fcb7cdf"
      },
      "outputs": [
        {
          "data": {
            "text/plain": [
              "31//12"
            ]
          },
          "metadata": {},
          "output_type": "display_data"
        }
      ],
      "source": [
        "# 分数での厳密計算（//を使う）\n",
        "1//3 + 3 * (1 - 1//4)"
      ]
    },
    {
      "cell_type": "code",
      "execution_count": 10,
      "id": "e6a2f5cb",
      "metadata": {
        "id": "e6a2f5cb"
      },
      "outputs": [
        {
          "data": {
            "text/plain": [
              "1024"
            ]
          },
          "metadata": {},
          "output_type": "display_data"
        }
      ],
      "source": [
        "# べき乗の計算（^を使う）\n",
        "2^10"
      ]
    },
    {
      "cell_type": "code",
      "execution_count": 11,
      "id": "power_examples",
      "metadata": {
        "id": "power_examples"
      },
      "outputs": [
        {
          "name": "stdout",
          "output_type": "stream",
          "text": [
            "2³ = 8\n",
            "3⁴ = 81\n",
            "5^(1/2) = √5 = 2.23606797749979\n",
            "27^(1/3) = ∛27 = 3.0\n"
          ]
        }
      ],
      "source": [
        "# いろいろなべき乗\n",
        "println(\"2³ = \", 2^3)\n",
        "println(\"3⁴ = \", 3^4)\n",
        "println(\"5^(1/2) = √5 = \", 5^(1/2))\n",
        "println(\"27^(1/3) = ∛27 = \", 27^(1/3))"
      ]
    },
    {
      "cell_type": "markdown",
      "id": "calculation_check",
      "metadata": {
        "id": "calculation_check"
      },
      "source": [
        "## 計算チェック！\n",
        "\n",
        "手計算の結果をJuliaで確認してみましょう。\n",
        "\n",
        "展開の公式：$(2\\sqrt{3}+5)(\\sqrt{3}-1) = 2\\sqrt{3} \\cdot \\sqrt{3} - 2\\sqrt{3} + 5\\sqrt{3} - 5 = 6 - 2\\sqrt{3} + 5\\sqrt{3} - 5 = 1 + 3\\sqrt{3}$\n"
      ]
    },
    {
      "cell_type": "code",
      "execution_count": 12,
      "id": "m97_55e1_f0q",
      "metadata": {
        "id": "m97_55e1_f0q"
      },
      "outputs": [
        {
          "data": {
            "text/plain": [
              "6.19615242270663"
            ]
          },
          "metadata": {},
          "output_type": "display_data"
        }
      ],
      "source": [
        "# 左辺を計算\n",
        "(2sqrt(3) + 5) * (sqrt(3) - 1)"
      ]
    },
    {
      "cell_type": "code",
      "execution_count": 13,
      "id": "sUmkR4Dd_9Jv",
      "metadata": {
        "id": "sUmkR4Dd_9Jv"
      },
      "outputs": [
        {
          "data": {
            "text/plain": [
              "6.196152422706632"
            ]
          },
          "metadata": {},
          "output_type": "display_data"
        }
      ],
      "source": [
        "# 右辺を計算\n",
        "1 + 3sqrt(3)"
      ]
    },
    {
      "cell_type": "code",
      "execution_count": 14,
      "id": "verification",
      "metadata": {
        "id": "verification"
      },
      "outputs": [
        {
          "name": "stdout",
          "output_type": "stream",
          "text": [
            "左辺 = 6.19615242270663\n",
            "右辺 = 6.196152422706632\n",
            "等しい？ true\n"
          ]
        }
      ],
      "source": [
        "# 両辺が等しいか確認\n",
        "left_side = (2sqrt(3) + 5) * (sqrt(3) - 1)\n",
        "right_side = 1 + 3sqrt(3)\n",
        "println(\"左辺 = \", left_side)\n",
        "println(\"右辺 = \", right_side)\n",
        "println(\"等しい？ \", left_side ≈ right_side)  # ≈ は「ほぼ等しい」の意味"
      ]
    },
    {
      "cell_type": "markdown",
      "id": "a9e442c6",
      "metadata": {
        "id": "a9e442c6"
      },
      "source": [
        "## 変数を使って計算してみよう\n",
        "\n",
        "数学と同じように、文字に数値を代入して計算できます。\n"
      ]
    },
    {
      "cell_type": "code",
      "execution_count": 15,
      "id": "b0aa3a58",
      "metadata": {
        "id": "b0aa3a58"
      },
      "outputs": [
        {
          "name": "stdout",
          "output_type": "stream",
          "text": [
            "x = 3.732050807568877\n"
          ]
        }
      ],
      "source": [
        "# 変数 x に値を代入\n",
        "x = 2 + sqrt(3)\n",
        "println(\"x = \", x)"
      ]
    },
    {
      "cell_type": "code",
      "execution_count": 16,
      "id": "eRLEfC8q4xVG",
      "metadata": {
        "id": "eRLEfC8q4xVG"
      },
      "outputs": [
        {
          "name": "stdout",
          "output_type": "stream",
          "text": [
            "y = 0.2679491924311228\n"
          ]
        }
      ],
      "source": [
        "# 変数 y に値を代入\n",
        "y = 2 - sqrt(3)\n",
        "println(\"y = \", y)"
      ]
    },
    {
      "cell_type": "code",
      "execution_count": 17,
      "id": "e1f0fbda",
      "metadata": {
        "id": "e1f0fbda"
      },
      "outputs": [
        {
          "data": {
            "text/plain": [
              "4.0"
            ]
          },
          "metadata": {},
          "output_type": "display_data"
        }
      ],
      "source": [
        "# x + y を計算\n",
        "x + y"
      ]
    },
    {
      "cell_type": "code",
      "execution_count": 18,
      "id": "xy_calculation",
      "metadata": {
        "id": "xy_calculation"
      },
      "outputs": [
        {
          "data": {
            "text/plain": [
              "1.0000000000000004"
            ]
          },
          "metadata": {},
          "output_type": "display_data"
        }
      ],
      "source": [
        "# x × y を計算\n",
        "x * y"
      ]
    },
    {
      "cell_type": "code",
      "execution_count": 19,
      "id": "66f417a3",
      "metadata": {
        "id": "66f417a3"
      },
      "outputs": [
        {
          "data": {
            "text/plain": [
              "51.99999999999999"
            ]
          },
          "metadata": {},
          "output_type": "display_data"
        }
      ],
      "source": [
        "# x³ + y³ を計算\n",
        "x^3 + y^3"
      ]
    },
    {
      "cell_type": "markdown",
      "id": "formula_verification",
      "metadata": {
        "id": "formula_verification"
      },
      "source": [
        "### 数学の公式を確認してみよう！\n",
        "\n",
        "和と積の公式：$x = 2 + \\sqrt{3}$, $y = 2 - \\sqrt{3}$ のとき\n",
        "\n",
        "- $x + y = (2 + \\sqrt{3}) + (2 - \\sqrt{3}) = 4$\n",
        "- $xy = (2 + \\sqrt{3})(2 - \\sqrt{3}) = 4 - 3 = 1$\n",
        "\n",
        "3乗の和の公式：$x^3 + y^3 = (x + y)(x^2 - xy + y^2) = (x + y)((x + y)^2 - 3xy)$\n"
      ]
    },
    {
      "cell_type": "code",
      "execution_count": 20,
      "id": "formula_check",
      "metadata": {
        "id": "formula_check"
      },
      "outputs": [
        {
          "name": "stdout",
          "output_type": "stream",
          "text": [
            "x + y = 4.0\n",
            "xy = 1.0000000000000004\n",
            "x³ + y³ (直接計算) = 51.99999999999999\n",
            "x³ + y³ (公式使用) = 51.99999999999999\n",
            "結果は一致する？ true\n"
          ]
        }
      ],
      "source": [
        "# 公式による計算\n",
        "sum_xy = x + y\n",
        "product_xy = x * y\n",
        "x3_plus_y3_formula = sum_xy * (sum_xy^2 - 3*product_xy)\n",
        "\n",
        "println(\"x + y = \", sum_xy)\n",
        "println(\"xy = \", product_xy)\n",
        "println(\"x³ + y³ (直接計算) = \", x^3 + y^3)\n",
        "println(\"x³ + y³ (公式使用) = \", x3_plus_y3_formula)\n",
        "println(\"結果は一致する？ \", (x^3 + y^3) ≈ x3_plus_y3_formula)"
      ]
    },
    {
      "cell_type": "markdown",
      "id": "93a856c4",
      "metadata": {
        "id": "93a856c4"
      },
      "source": [
        "## Day 1 の演習問題\n",
        "\n",
        "以下の問題に取り組んでみましょう。\n",
        "\n",
        "- まずJuliaのコードで計算してみよう\n",
        "- 余裕があれば、自分の手と頭で解いて、答えをJuliaでチェックしよう\n",
        "- ノートブックを保存して、Google Classroomから提出しよう\n",
        "\n",
        "### 問題1: 展開と計算\n",
        "\n",
        "次の式を計算しよう：\n",
        "\n",
        "$$\\displaystyle{(2\\sqrt{3}+1)(\\sqrt{3}-4)}$$\n",
        "\n",
        "**ヒント**: 展開の公式 $(a+b)(c+d) = ac + ad + bc + bd$ を使って手計算してから、Juliaで確認してみよう。\n",
        "\n",
        "### 問題2: 変数を使った計算\n",
        "\n",
        "$\\displaystyle{x=2+\\sqrt{7}}$，$\\displaystyle{y=2-\\sqrt{7}}$ のとき、次の値を求めましょう：\n",
        "\n",
        "$$x^3 + xy + y^3$$\n",
        "\n",
        "**ヒント**: \n",
        "1. まず $x + y$ と $xy$ を計算してみよう\n",
        "2. $x^3 + y^3$ の公式も使えるかもしれません\n",
        "\n",
        "### 問題3: 三角関数の値\n",
        "\n",
        "次の値をJuliaで計算し、手計算の結果と比較してみよう：\n",
        "\n",
        "1. $\\sin(\\frac{\\pi}{4}) + \\cos(\\frac{\\pi}{4})$\n",
        "2. $\\sin^2(\\frac{\\pi}{6}) + \\cos^2(\\frac{\\pi}{6})$\n",
        "\n",
        "**確認ポイント**: 2番目の答えは何になる？なぜそうなる？\n"
      ]
    },
    {
      "cell_type": "markdown",
      "id": "answer_section",
      "metadata": {
        "id": "answer_section"
      },
      "source": [
        "## 解答欄\n",
        "\n",
        "以下のセルに解答を記入してください。\n"
      ]
    },
    {
      "cell_type": "markdown",
      "id": "answer1_title",
      "metadata": {
        "id": "answer1_title"
      },
      "source": [
        "### 問題1の解答"
      ]
    },
    {
      "cell_type": "code",
      "execution_count": null,
      "id": "0VwNS26K97jR",
      "metadata": {
        "id": "0VwNS26K97jR"
      },
      "outputs": [],
      "source": [
        "# 問題1: (2√3+1)(√3-4) の計算\n",
        "# ここに解答を書いてください\n"
      ]
    },
    {
      "cell_type": "markdown",
      "id": "answer2_title",
      "metadata": {
        "id": "answer2_title"
      },
      "source": [
        "### 問題2の解答"
      ]
    },
    {
      "cell_type": "code",
      "execution_count": null,
      "id": "answer2_code",
      "metadata": {
        "id": "answer2_code"
      },
      "outputs": [],
      "source": [
        "# 問題2: x=2+√7, y=2-√7 のとき x³+xy+y³ を求める\n",
        "# ここに解答を書いてください\n"
      ]
    },
    {
      "cell_type": "markdown",
      "id": "answer3_title",
      "metadata": {
        "id": "answer3_title"
      },
      "source": [
        "### 問題3の解答"
      ]
    },
    {
      "cell_type": "code",
      "execution_count": null,
      "id": "answer3_code",
      "metadata": {
        "id": "answer3_code"
      },
      "outputs": [],
      "source": [
        "# 問題3: 三角関数の値の計算\n",
        "# ここに解答を書いてください\n"
      ]
    },
    {
      "cell_type": "markdown",
      "id": "conclusion",
      "metadata": {
        "id": "conclusion"
      },
      "source": [
        "## まとめ\n",
        "\n",
        "今日は以下のことを学びました：\n",
        "\n",
        "- Julia言語の基本的な計算方法\n",
        "- 数学定数（π、e）の使用\n",
        "- 数学関数（sqrt、sin、cos、logなど）の活用\n",
        "- 変数を使った計算\n",
        "- 手計算とプログラムでの計算結果の比較\n",
        "\n",
        "### Julia言語のメリット\n",
        "\n",
        "1. **直感的な記法**：数学の式をほぼそのまま書ける\n",
        "2. **高精度計算**：複雑な計算も正確に実行\n",
        "3. **計算の検証**：手計算の結果をすぐに確認できる\n",
        "4. **学習効果**：計算過程を可視化して理解を深められる\n",
        "\n",
        "### 次回予告\n",
        "\n",
        "Day 2では、関数を定義してグラフを描画します。1次関数、2次関数、三角関数などの美しいグラフを作成し、関数の性質を視覚的に理解してみましょう！\n",
        "\n",
        "### 提出について\n",
        "\n",
        "このノートブックに解答を記入し、保存してからGoogle Classroomに提出してください。\n"
      ]
    }
  ],
  "metadata": {
    "colab": {
      "provenance": []
    },
    "kernelspec": {
      "display_name": "Julia 1.11.6",
      "language": "julia",
      "name": "julia-1.11"
    },
    "language_info": {
      "file_extension": ".jl",
      "mimetype": "application/julia",
      "name": "julia",
      "version": "1.11.6"
    }
  },
  "nbformat": 4,
  "nbformat_minor": 5
}

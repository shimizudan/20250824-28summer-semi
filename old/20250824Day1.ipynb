{
  "cells": [
    {
      "cell_type": "markdown",
      "id": "cb656753",
      "metadata": {
        "id": "cb656753"
      },
      "source": [
        "# 高校数学とJulia言語 Day 1\n",
        "\n",
        "- 城北中学校・高等学校　中学3年・高校1年\n",
        "- 夏期講習会III 2025/8/24~2025/8/28\n",
        "- 担当：清水団\n"
      ]
    },
    {
      "cell_type": "markdown",
      "id": "e0514a00",
      "metadata": {
        "id": "e0514a00"
      },
      "source": [
        "## Julia言語とは\n",
        "\n",
        "Juliaは統計処理や科学技術計算、機械学習に強いプログラミング言語といわれています。 例えばStatsBase.jlやDistributions.jlなどのパッケージを使用すると、統計モデリングや仮説検定、回帰分析、時系列分析などの統計処理を行えます。\n",
        "\n",
        "https://julialang.org/\n"
      ]
    },
    {
      "cell_type": "markdown",
      "id": "e1f0a222",
      "metadata": {
        "id": "e1f0a222"
      },
      "source": [
        "## Julia言語をGoogle Colabで使ってみよう！\n",
        "\n",
        "2025年3月6日にGoogle Colab上でJulia言語が使えるようになりました。\n",
        "今回の夏期講習会ではこのgoogle Colab上でJulia言語を使ってみます。\n",
        "\n",
        "**メニュー ランタイム > ランタイムのタイプを変更 → Julia を選択します。**\n",
        "\n",
        "\n",
        "https://zenn.dev/dannchu/articles/296dce4bf7c701\n",
        "\n",
        "\n",
        "\n",
        "### 📝 Google Colab の基本的な使い方（初心者向けガイド）\n",
        "\n",
        "Google Colab（Colaboratory）は、クラウド上で動くJupyterノートブック環境です。PythonやJuliaなどのプログラミング言語を、インストールなしでブラウザ上で実行できます。\n",
        "\n",
        "⸻\n",
        "\n",
        "### 🔸 1. セルの種類\n",
        "\n",
        "Google Colabでは、2種類のセルを使って作業します。\n",
        "\n",
        "セルの種類\t用途\t入力内容\n",
        "コードセル\tプログラムを書く\tJulia, Python などのコード\n",
        "テキストセル（マークダウンセル）\t解説や見出しを書く\tMarkdown 記法を使った文章や数式\n",
        "\n",
        "✅ セルの追加方法：\n",
        "上部メニュー → + コード または + テキスト\n",
        "\n",
        "⸻\n",
        "\n",
        "### 🔸 2. コードセルの使い方\n",
        "\n",
        "```\n",
        "println(\"Hello, world!\")\n",
        "```\n",
        "\n",
        "▶️ ボタンをクリックするか Shift + Enter で実行できます。\n",
        "\n",
        "⸻\n",
        "\n",
        "### 🔸 3. テキストセル（Markdown）の使い方\n",
        "\n",
        "Markdown記法を使うと、整った文書を作ることができます。\n",
        "\n",
        "📌 見出し\n",
        "\n",
        "```\n",
        "# 見出し（大）\n",
        "## 見出し（中）\n",
        "### 見出し（小）\n",
        "```\n",
        "# 見出し（大）\n",
        "## 見出し（中）\n",
        "### 見出し（小）\n",
        "\n",
        "\n",
        "📌 箇条書き\n",
        "\n",
        "```\n",
        "- りんご\n",
        "- みかん\n",
        "- バナナ\n",
        "```\n",
        "- りんご\n",
        "- みかん\n",
        "- バナナ\n",
        "\n",
        "\n",
        "📌 番号付きリスト\n",
        "\n",
        "```\n",
        "1. 朝食\n",
        "2. 昼食\n",
        "3. 夕食\n",
        "```\n",
        "1. 朝食\n",
        "2. 昼食\n",
        "3. 夕食\n",
        "\n",
        "📌 太字・斜体\n",
        "\n",
        "```\n",
        "**太字**  \n",
        "*斜体*\n",
        "```\n",
        "**太字**  \n",
        "*斜体*\n",
        "\n",
        "\n",
        "📌 数式（LaTeX）\n",
        "\n",
        "```\n",
        "インライン数式：$x^2 + y^2 = r^2$\n",
        "\n",
        "ブロック数式：\n",
        "$$\n",
        "\\int_0^1 x^2 dx = \\frac{1}{3}\n",
        "$$\n",
        "\n",
        "```\n",
        "インライン数式：$x^2 + y^2 = r^2$\n",
        "\n",
        "ブロック数式：\n",
        "$$\n",
        "\\int_0^1 x^2 dx = \\frac{1}{3}\n",
        "$$\n",
        "\n",
        "⸻\n",
        "\n",
        "### 🔸 4. ノートブックの操作\n",
        "\n",
        "- 操作\t方法\n",
        "- セルを実行\tShift + Enter または ▶️ ボタン\n",
        "- 新しいセルを追加\t上部の + コード または + テキスト\n",
        "- セルを削除\tセル左のメニューからゴミ箱アイコン\n",
        "- ノートブックを保存\t自動保存（Googleドライブ）または ファイル > ダウンロード\n",
        "\n"
      ]
    },
    {
      "cell_type": "markdown",
      "id": "4098335e",
      "metadata": {
        "id": "4098335e"
      },
      "source": [
        "## Julia言語で計算してみよう！"
      ]
    },
    {
      "cell_type": "code",
      "execution_count": null,
      "id": "3abfc6a4",
      "metadata": {
        "id": "3abfc6a4"
      },
      "outputs": [],
      "source": [
        "123+456"
      ]
    },
    {
      "cell_type": "code",
      "execution_count": null,
      "id": "e0034522",
      "metadata": {
        "id": "e0034522"
      },
      "outputs": [],
      "source": [
        "sqrt(2)"
      ]
    },
    {
      "cell_type": "code",
      "execution_count": null,
      "id": "e4c19235",
      "metadata": {
        "id": "e4c19235"
      },
      "outputs": [],
      "source": [
        "π"
      ]
    },
    {
      "cell_type": "code",
      "execution_count": null,
      "id": "a13ff7dd",
      "metadata": {
        "id": "a13ff7dd"
      },
      "outputs": [],
      "source": [
        "2π,2sqrt(3)"
      ]
    },
    {
      "cell_type": "code",
      "execution_count": null,
      "id": "a7883009",
      "metadata": {
        "id": "a7883009"
      },
      "outputs": [],
      "source": [
        "1/3 + 3 * (1-1/4)"
      ]
    },
    {
      "cell_type": "code",
      "execution_count": null,
      "id": "1fcb7cdf",
      "metadata": {
        "id": "1fcb7cdf"
      },
      "outputs": [],
      "source": [
        "1//3 + 3 * (1-1//4)"
      ]
    },
    {
      "cell_type": "code",
      "execution_count": null,
      "id": "e6a2f5cb",
      "metadata": {
        "id": "e6a2f5cb"
      },
      "outputs": [],
      "source": [
        "2^10"
      ]
    },
    {
      "cell_type": "markdown",
      "source": [
        "計算チェック！\n",
        "\n",
        "$(2\\sqrt3+5)(\\sqrt3-1)=6-2\\sqrt3+5\\sqrt3-5=1+3\\sqrt3$"
      ],
      "metadata": {
        "id": "enfOiHkZ_g_7"
      },
      "id": "enfOiHkZ_g_7"
    },
    {
      "cell_type": "code",
      "source": [
        "(2sqrt(3)+5) * (sqrt(3)-1)"
      ],
      "metadata": {
        "id": "m97_55e1_f0q"
      },
      "id": "m97_55e1_f0q",
      "execution_count": null,
      "outputs": []
    },
    {
      "cell_type": "code",
      "source": [
        "1+3sqrt(3)"
      ],
      "metadata": {
        "id": "sUmkR4Dd_9Jv"
      },
      "id": "sUmkR4Dd_9Jv",
      "execution_count": null,
      "outputs": []
    },
    {
      "cell_type": "markdown",
      "id": "a9e442c6",
      "metadata": {
        "id": "a9e442c6"
      },
      "source": [
        "## 文字に置き換えて計算してみよう"
      ]
    },
    {
      "cell_type": "code",
      "execution_count": null,
      "id": "b0aa3a58",
      "metadata": {
        "id": "b0aa3a58"
      },
      "outputs": [],
      "source": [
        "x = 2 + sqrt(3)"
      ]
    },
    {
      "cell_type": "code",
      "source": [
        "y = 2 - sqrt(3)"
      ],
      "metadata": {
        "id": "eRLEfC8q4xVG"
      },
      "id": "eRLEfC8q4xVG",
      "execution_count": null,
      "outputs": []
    },
    {
      "cell_type": "code",
      "execution_count": null,
      "id": "e1f0fbda",
      "metadata": {
        "id": "e1f0fbda"
      },
      "outputs": [],
      "source": [
        "x+y"
      ]
    },
    {
      "cell_type": "code",
      "execution_count": null,
      "id": "66f417a3",
      "metadata": {
        "id": "66f417a3"
      },
      "outputs": [],
      "source": [
        "x^3+y^3"
      ]
    },
    {
      "cell_type": "markdown",
      "id": "93a856c4",
      "metadata": {
        "id": "93a856c4"
      },
      "source": [
        "## Day 1 の演習問題です。\n",
        "\n",
        "- Juliaのコードで計算してみうよう。\n",
        "- できたら，自分の手と頭で解いて，答えをJuliaでチェックしよう。\n",
        "- ノートブックを保存して，google Classroomから提出しよう。\n",
        "\n",
        "\n",
        "1. 次の式を計算しよう。\n",
        "\n",
        " $ \\displaystyle{(2\\sqrt{3}+1)(\\sqrt3-4)} $\n",
        "\n",
        "\n",
        "\n",
        "\n",
        "2. $\\displaystyle{x=2+\\sqrt{7}}$，$\\displaystyle{y=2-\\sqrt7}$のとき，次の値を求めましょう。\n",
        "\n",
        " $x^3+xy+y^3$\n",
        "    "
      ]
    },
    {
      "cell_type": "code",
      "source": [],
      "metadata": {
        "id": "0VwNS26K97jR"
      },
      "id": "0VwNS26K97jR",
      "execution_count": null,
      "outputs": []
    }
  ],
  "metadata": {
    "kernelspec": {
      "display_name": "Julia",
      "name": "julia"
    },
    "language_info": {
      "name": "julia"
    },
    "colab": {
      "provenance": []
    }
  },
  "nbformat": 4,
  "nbformat_minor": 5
}